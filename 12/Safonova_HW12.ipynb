{
 "cells": [
  {
   "cell_type": "markdown",
   "id": "eleven-stock",
   "metadata": {},
   "source": [
    "# HW12 CNN/RNN"
   ]
  },
  {
   "cell_type": "code",
   "execution_count": 1,
   "id": "intended-correlation",
   "metadata": {},
   "outputs": [],
   "source": [
    "import torch\n",
    "import torch.nn as nn\n",
    "import torch.nn.functional as F\n",
    "import torch.optim as optim\n",
    "import torch.utils.data\n",
    "import pandas as pd\n",
    "import numpy as np\n",
    "from string import punctuation\n",
    "from sklearn.model_selection import train_test_split\n",
    "from collections import Counter\n",
    "from IPython.display import Image\n",
    "from IPython.core.display import HTML \n",
    "import matplotlib.pyplot as plt\n",
    "%matplotlib inline"
   ]
  },
  {
   "cell_type": "code",
   "execution_count": 2,
   "id": "alive-andorra",
   "metadata": {},
   "outputs": [],
   "source": [
    "data = pd.read_csv('lenta_sample.csv')"
   ]
  },
  {
   "cell_type": "code",
   "execution_count": 3,
   "id": "written-graduation",
   "metadata": {},
   "outputs": [],
   "source": [
    "data.dropna(subset=['topic', 'text'], inplace=True)"
   ]
  },
  {
   "cell_type": "code",
   "execution_count": 4,
   "id": "cultural-contractor",
   "metadata": {},
   "outputs": [],
   "source": [
    "def preprocess(text):\n",
    "    tokens = text.lower().split()\n",
    "    tokens = [token.strip(punctuation) for token in tokens]\n",
    "    return tokens"
   ]
  },
  {
   "cell_type": "code",
   "execution_count": 5,
   "id": "daily-presence",
   "metadata": {},
   "outputs": [],
   "source": [
    "# словарь\n",
    "vocab = Counter()\n",
    "\n",
    "for text in data.text:\n",
    "    vocab.update(preprocess(text))"
   ]
  },
  {
   "cell_type": "code",
   "execution_count": 6,
   "id": "exciting-plate",
   "metadata": {},
   "outputs": [],
   "source": [
    "# отфильтрованный словарь\n",
    "filtered_vocab = set()\n",
    "\n",
    "for word in vocab:\n",
    "    if vocab[word] > 30:\n",
    "        filtered_vocab.add(word)"
   ]
  },
  {
   "cell_type": "code",
   "execution_count": 7,
   "id": "greek-thong",
   "metadata": {},
   "outputs": [],
   "source": [
    "# индексируем слова\n",
    "word2id = {'PAD':0}\n",
    "\n",
    "for word in filtered_vocab:\n",
    "    word2id[word] = len(word2id)"
   ]
  },
  {
   "cell_type": "code",
   "execution_count": 8,
   "id": "remarkable-marks",
   "metadata": {},
   "outputs": [],
   "source": [
    "id2word = {i:word for word, i in word2id.items()}"
   ]
  },
  {
   "cell_type": "code",
   "execution_count": 9,
   "id": "comprehensive-stupid",
   "metadata": {},
   "outputs": [],
   "source": [
    "class Dataset(torch.utils.data.Dataset):\n",
    "\n",
    "    def __init__(self, word2id, MAX_LEN, texts, targets):\n",
    "        \n",
    "        # храним сырой датасет\n",
    "        # еще лучше можно сделать, если считывать из файла при генерации\n",
    "        self.texts = [torch.LongTensor([word2id[w] for w in self.preprocess(t) if w in word2id][:MAX_LEN]) for t in texts]\n",
    "        self.texts = torch.nn.utils.rnn.pad_sequence(self.texts, batch_first=True)\n",
    "        \n",
    "        # мы не считаем словарь прямо тут, т.к. нам нужно шерить словарь между трейном и валидацией\n",
    "        self.word2id = word2id\n",
    "        self.MAX_LEN = MAX_LEN\n",
    "        self.length = len(texts)\n",
    "        # таргеты можно сразу целиком выделить \n",
    "        \n",
    "        self.target = torch.LongTensor(targets)\n",
    "\n",
    "    def __len__(self):\n",
    "        # нужно уметь возвращать длину датасета, в нашем случае это просто сделать\n",
    "        # если не загружать данные целиком, а читать из файла - это может быть сложнее\n",
    "        return self.length\n",
    "\n",
    "    def __getitem__(self, index):\n",
    "\n",
    "        # в index будут индексы от 0 до self.length\n",
    "        # по ним мы достанем тексты, предобработаем,переведем в векторы, западим и вернем\n",
    "\n",
    "        ids = self.texts[index]\n",
    "        y = self.target[index]\n",
    "\n",
    "        return ids, y\n",
    "    \n",
    "    def preprocess(self, text):\n",
    "        tokens = text.lower().split()\n",
    "        tokens = [token.strip(punctuation) for token in tokens]\n",
    "        tokens = [token for token in tokens if token]\n",
    "        return tokens"
   ]
  },
  {
   "cell_type": "code",
   "execution_count": 10,
   "id": "stupid-eagle",
   "metadata": {},
   "outputs": [],
   "source": [
    "MAX_LEN = 149"
   ]
  },
  {
   "cell_type": "code",
   "execution_count": 11,
   "id": "informative-parish",
   "metadata": {},
   "outputs": [],
   "source": [
    "texts = data.text.values\n",
    "id2label = {i:l for i,l in enumerate(set(data.topic))}\n",
    "label2id = {l:i for i,l in id2label.items()}\n",
    "targets = [label2id[l] for l in data.topic]"
   ]
  },
  {
   "cell_type": "code",
   "execution_count": 12,
   "id": "resistant-metro",
   "metadata": {},
   "outputs": [],
   "source": [
    "train_texts, valid_texts, train_targets, valid_targets = train_test_split(texts, targets, test_size=0.05)"
   ]
  },
  {
   "cell_type": "code",
   "execution_count": 13,
   "id": "exotic-august",
   "metadata": {},
   "outputs": [],
   "source": [
    "training_set = Dataset(word2id, MAX_LEN, train_texts, train_targets)\n",
    "training_generator = torch.utils.data.DataLoader(training_set, batch_size=256, shuffle=True, )"
   ]
  },
  {
   "cell_type": "code",
   "execution_count": 14,
   "id": "educated-albany",
   "metadata": {},
   "outputs": [],
   "source": [
    "valid_set = Dataset(word2id, MAX_LEN, valid_texts, valid_targets)\n",
    "valid_generator = torch.utils.data.DataLoader(valid_set, batch_size=256, shuffle=True)"
   ]
  },
  {
   "cell_type": "code",
   "execution_count": 15,
   "id": "fluid-audience",
   "metadata": {},
   "outputs": [],
   "source": [
    "from sklearn.metrics import f1_score\n",
    "\n",
    "def train(model, iterator, optimizer, criterion, print_every=1000):\n",
    "    \n",
    "    epoch_loss = []\n",
    "    epoch_f1 = []\n",
    "    \n",
    "    model.train()  \n",
    "\n",
    "    for i, (texts, ys) in enumerate(iterator):\n",
    "        \n",
    "        optimizer.zero_grad()   \n",
    "        predictions = model(texts.to(device)).squeeze()  \n",
    "        loss = criterion(predictions, ys.to(device))        \n",
    "        \n",
    "        loss.backward()\n",
    "        optimizer.step()     \n",
    "        preds = predictions.detach().to('cpu').numpy().argmax(1).tolist()\n",
    "        y_true = ys.tolist()\n",
    "        \n",
    "        epoch_loss.append(loss.item())\n",
    "        epoch_f1.append(f1_score(y_true, preds, average=\"micro\"))\n",
    "        \n",
    "        if not (i+1) % print_every:\n",
    "            print(f'Loss: {np.mean(epoch_loss)}; F1 measure: {np.mean(epoch_f1)}')\n",
    "        \n",
    "    return np.mean(epoch_f1)"
   ]
  },
  {
   "cell_type": "code",
   "execution_count": 16,
   "id": "consecutive-restaurant",
   "metadata": {},
   "outputs": [],
   "source": [
    "def evaluate(model, iterator, criterion):\n",
    "    \n",
    "    epoch_loss = []\n",
    "    epoch_f1 = []\n",
    "    \n",
    "    model.eval()  \n",
    "    with torch.no_grad():\n",
    "        for texts, ys in iterator:   \n",
    "\n",
    "            predictions = model(texts.to(device)).squeeze()  \n",
    "            loss = criterion(predictions, ys.to(device))        \n",
    "            preds = predictions.detach().to('cpu').numpy().argmax(1).tolist()\n",
    "            y_true = ys.tolist()\n",
    "            \n",
    "\n",
    "            epoch_loss.append(loss.item())  \n",
    "            epoch_f1.append(f1_score(y_true, preds, average=\"micro\"))\n",
    "            \n",
    "    return np.mean(epoch_f1)# / len(iterator)"
   ]
  },
  {
   "cell_type": "code",
   "execution_count": 17,
   "id": "charged-croatia",
   "metadata": {},
   "outputs": [],
   "source": [
    "class Conv_layer_with_pad(nn.Module):\n",
    "    \n",
    "    def __init__(self, in_channels, out_channels, k_size=5, stride=1):\n",
    "        \n",
    "        super().__init__()          \n",
    "        self.KERNEL_SIZE = k_size\n",
    "        self.IN_CHANNELS = in_channels\n",
    "        self.OUT_CHANNELS = out_channels\n",
    "        self.STRIDE = stride\n",
    "        self.conv = nn.Conv1d(self.IN_CHANNELS, \n",
    "                              self.OUT_CHANNELS, \n",
    "                              kernel_size=self.KERNEL_SIZE, \n",
    "                              stride=self.STRIDE, ) \n",
    "        \n",
    "        self.act = nn.LeakyReLU()\n",
    "        \n",
    "    def forward(self, embedded):\n",
    "\n",
    "        MAX_LEN = embedded.size(2)\n",
    "        EXP_LEN = ((MAX_LEN-1)*self.STRIDE)+1+(self.KERNEL_SIZE-1)\n",
    "\n",
    "        # нужно чтобы все сходилось, иначе выдавать ошибку\n",
    "        assert not (EXP_LEN-MAX_LEN)%2, f\"Не ровный паддинг! {EXP_LEN}\"\n",
    "        \n",
    "        padded = F.pad(embedded, (int((EXP_LEN-MAX_LEN)/2), \n",
    "                                                   int((EXP_LEN-MAX_LEN)/2)))\n",
    "        \n",
    "        convoluted = self.conv(padded)\n",
    "\n",
    "        \n",
    "        return self.act(convoluted)"
   ]
  },
  {
   "cell_type": "code",
   "execution_count": 18,
   "id": "coupled-placement",
   "metadata": {},
   "outputs": [],
   "source": [
    "class Pooling(nn.Module):\n",
    "    \n",
    "    def __init__(self, MAX_LEN):\n",
    "        \n",
    "        super().__init__()          \n",
    "        self.KERNEL_SIZE = 2\n",
    "        self.STRIDE = 2\n",
    "                \n",
    "        self.max_pool = nn.MaxPool1d(kernel_size=self.KERNEL_SIZE, stride=self.STRIDE, padding=0)\n",
    "        \n",
    "        self.act = nn.LeakyReLU()\n",
    "        \n",
    "    def forward(self, embedded):\n",
    "        \n",
    "        pooled = self.max_pool(embedded)\n",
    "\n",
    "        MAX_LEN = embedded.size(2) \n",
    "        OUT_LEN = pooled.size(2)\n",
    "\n",
    "        padded = F.pad(pooled, (int((MAX_LEN - OUT_LEN)/2), int((MAX_LEN - OUT_LEN)/2)))\n",
    "\n",
    "        return self.act(padded)"
   ]
  },
  {
   "cell_type": "code",
   "execution_count": 19,
   "id": "appreciated-plain",
   "metadata": {},
   "outputs": [],
   "source": [
    "class Clf(nn.Module):\n",
    "    \n",
    "    def __init__(self, output_dim):\n",
    "        \n",
    "        super().__init__()          \n",
    "        self.VOCAB_SIZE = len(word2id)\n",
    "        self.EMB_DIM = 128\n",
    "        self.KERNEL_SIZE = 7\n",
    "        self.MAX_LEN = 150\n",
    "        self.IN_CHANNELS = self.MAX_LEN\n",
    "        self.OUT_CHANNELS = 32\n",
    "        self.STRIDE = 1\n",
    "        self.HIDDEN_FC = 64\n",
    "        self.RNN_UNITS = 32\n",
    "        \n",
    "        \n",
    "        self.embedding = nn.Embedding(self.VOCAB_SIZE, self.EMB_DIM)\n",
    "        \n",
    "        self.conv = Conv_layer_with_pad(self.EMB_DIM, self.OUT_CHANNELS) #cnn1 \n",
    "        conv1_output = 16\n",
    "        self.conv1 = Conv_layer_with_pad(self.OUT_CHANNELS, conv1_output, k_size = 2, stride=2) #cnn2\n",
    "        self.max_pool = Pooling(self.EMB_DIM)\n",
    "        self.gru = nn.GRU(conv1_output, self.RNN_UNITS, batch_first=True, bidirectional=False, num_layers=4, dropout=0.25) #gru\n",
    "        self.lstm = nn.LSTM(conv1_output, self.RNN_UNITS, batch_first=True, bidirectional=False, num_layers=2, dropout=0.5) #lstm\n",
    "        self.relu = nn.ReLU()\n",
    "\n",
    "        \n",
    "        self.fc = nn.Linear(self.RNN_UNITS*2, output_dim)\n",
    "        self.act = nn.LogSoftmax(1) \n",
    "        \n",
    "        \n",
    "    def forward(self, text):\n",
    "\n",
    "        embedded = self.embedding(text)\n",
    "\n",
    "        convoluted_1 = self.relu(self.max_pool(self.conv(embedded.permute(0, 2, 1)))) #первый сверточный слой с пулингом\n",
    "        convoluted_2 = self.relu(self.max_pool(self.conv1(convoluted_1))).permute(0, 2, 1) #второй сверточный слой с пулингом\n",
    "        gru = self.gru(convoluted_2)[0][:, -1]    #gru\n",
    "        lstm = self.lstm(convoluted_2[:, -1:])[0][:, -1]    #lstm в другую сторону\n",
    "        concated = torch.cat((gru, lstm), 1)\n",
    "        hidden = torch.relu(self.fc(concated))\n",
    "        outputs=self.act(hidden)\n",
    "\n",
    "        return outputs"
   ]
  },
  {
   "cell_type": "code",
   "execution_count": 20,
   "id": "active-joseph",
   "metadata": {},
   "outputs": [],
   "source": [
    "device = torch.device('cuda' if torch.cuda.is_available() else 'cpu')  \n",
    "model = Clf(len(label2id))\n",
    "\n",
    "\n",
    "optimizer = optim.Adam(model.parameters(), lr=0.001)\n",
    "criterion = nn.NLLLoss() \n",
    "\n",
    "model = model.to(device)\n",
    "criterion = criterion.to(device)"
   ]
  },
  {
   "cell_type": "code",
   "execution_count": 21,
   "id": "julian-picture",
   "metadata": {},
   "outputs": [
    {
     "name": "stdout",
     "output_type": "stream",
     "text": [
      "epoch: 0\n",
      "Loss: 2.5993553805351257; F1 measure: 0.20984375\n",
      "Loss: 2.5445559918880463; F1 measure: 0.21388671875\n",
      "Loss: 2.496135485172272; F1 measure: 0.23841145833333333\n",
      "Loss: 2.4153473538160326; F1 measure: 0.271064453125\n",
      "Loss: 2.3478761789798734; F1 measure: 0.2936953125\n",
      "Eval -  0.4225185584291188\n",
      "epoch: 1\n",
      "Loss: 1.9521736013889313; F1 measure: 0.4391015625\n",
      "Loss: 1.9334748768806458; F1 measure: 0.45099609375\n",
      "Loss: 1.8973136536280315; F1 measure: 0.46221354166666667\n",
      "Loss: 1.878163950741291; F1 measure: 0.468017578125\n",
      "Loss: 1.8516902408599853; F1 measure: 0.4781484375\n",
      "Eval -  0.5153532088122605\n",
      "epoch: 2\n",
      "Loss: 1.6793417310714722; F1 measure: 0.54546875\n",
      "Loss: 1.6589192694425583; F1 measure: 0.5523828125\n",
      "Loss: 1.6532618264357248; F1 measure: 0.5536067708333333\n",
      "Loss: 1.6376003196835518; F1 measure: 0.557861328125\n",
      "Loss: 1.6249558455944062; F1 measure: 0.561328125\n",
      "Eval -  0.5643318965517242\n",
      "epoch: 3\n",
      "Loss: 1.4770066452026367; F1 measure: 0.6043359375\n",
      "Loss: 1.4544539904594422; F1 measure: 0.61021484375\n",
      "Loss: 1.4511220705509187; F1 measure: 0.6126822916666667\n",
      "Loss: 1.4457423701882361; F1 measure: 0.61482421875\n",
      "Loss: 1.4410577964782716; F1 measure: 0.6166953125\n",
      "Eval -  0.6020707614942529\n",
      "epoch: 4\n",
      "Loss: 1.3095868337154388; F1 measure: 0.652421875\n",
      "Loss: 1.3175158184766769; F1 measure: 0.6502734375\n",
      "Loss: 1.3150036267439524; F1 measure: 0.6513411458333334\n",
      "Loss: 1.306210681349039; F1 measure: 0.6537890625\n",
      "Loss: 1.3041502505540847; F1 measure: 0.65453125\n",
      "Eval -  0.6253873323754789\n",
      "epoch: 5\n",
      "Loss: 1.1962255728244782; F1 measure: 0.6775\n",
      "Loss: 1.2122569698095322; F1 measure: 0.67400390625\n",
      "Loss: 1.2057662596305212; F1 measure: 0.6759244791666666\n",
      "Loss: 1.207081399410963; F1 measure: 0.676005859375\n",
      "Loss: 1.206100011229515; F1 measure: 0.6768125\n",
      "Eval -  0.6231297892720306\n",
      "epoch: 6\n",
      "Loss: 1.1144794917106629; F1 measure: 0.695703125\n",
      "Loss: 1.123200680911541; F1 measure: 0.694765625\n",
      "Loss: 1.1293064804871877; F1 measure: 0.6938541666666667\n",
      "Loss: 1.1337492980062962; F1 measure: 0.693583984375\n",
      "Loss: 1.1336920082569122; F1 measure: 0.6941171875\n",
      "Eval -  0.613185464559387\n",
      "epoch: 7\n",
      "Loss: 1.0663673615455627; F1 measure: 0.70875\n",
      "Loss: 1.0630607244372368; F1 measure: 0.7106640625\n",
      "Loss: 1.0651191093524297; F1 measure: 0.7105989583333333\n",
      "Loss: 1.0695260192453862; F1 measure: 0.709384765625\n",
      "Loss: 1.0684633210897445; F1 measure: 0.709390625\n",
      "Eval -  0.6217732279693486\n",
      "epoch: 8\n",
      "Loss: 0.9980347299575806; F1 measure: 0.7253125\n",
      "Loss: 1.01098814368248; F1 measure: 0.72052734375\n",
      "Loss: 1.0131899233659107; F1 measure: 0.7194921875\n",
      "Loss: 1.0171220411360264; F1 measure: 0.718583984375\n",
      "Loss: 1.0190235322713852; F1 measure: 0.717796875\n",
      "Eval -  0.6107794540229885\n",
      "epoch: 9\n",
      "Loss: 0.9489866608381271; F1 measure: 0.7323828125\n",
      "Loss: 0.9599908822774887; F1 measure: 0.72845703125\n",
      "Loss: 0.9624071530501048; F1 measure: 0.7283333333333334\n",
      "Loss: 0.965702995210886; F1 measure: 0.72712890625\n",
      "Loss: 0.9692282572984695; F1 measure: 0.7266015625\n",
      "Eval -  0.6053639846743295\n",
      "epoch: 10\n",
      "Loss: 0.9165779066085815; F1 measure: 0.7370703125\n",
      "Loss: 0.9266001775860786; F1 measure: 0.7337109375\n",
      "Loss: 0.925548978249232; F1 measure: 0.73421875\n",
      "Loss: 0.9261480425298214; F1 measure: 0.73443359375\n",
      "Loss: 0.9304391129016876; F1 measure: 0.733484375\n",
      "Eval -  0.6027628113026821\n",
      "epoch: 11\n",
      "Loss: 0.8894514507055282; F1 measure: 0.7408984375\n",
      "Loss: 0.8987253215909005; F1 measure: 0.73822265625\n",
      "Loss: 0.8983383192618688; F1 measure: 0.7383072916666666\n",
      "Loss: 0.8964788272976876; F1 measure: 0.73892578125\n",
      "Loss: 0.9036725263595581; F1 measure: 0.7374140625\n",
      "Eval -  0.6062416187739463\n",
      "epoch: 12\n",
      "Loss: 0.8799773120880127; F1 measure: 0.7401953125\n",
      "Loss: 0.884154561161995; F1 measure: 0.73845703125\n",
      "Loss: 0.8743149360020955; F1 measure: 0.7418489583333333\n",
      "Loss: 0.878396310210228; F1 measure: 0.740869140625\n",
      "Loss: 0.8805421006679535; F1 measure: 0.7406171875\n",
      "Eval -  0.6071797174329502\n",
      "epoch: 13\n",
      "Loss: 0.8567038738727569; F1 measure: 0.74359375\n",
      "Loss: 0.8561003145575523; F1 measure: 0.74462890625\n",
      "Loss: 0.8622807343800862; F1 measure: 0.7436067708333334\n",
      "Loss: 0.8651857736706734; F1 measure: 0.74251953125\n",
      "Loss: 0.8658405805826187; F1 measure: 0.74253125\n",
      "Eval -  0.6031064415708812\n",
      "epoch: 14\n",
      "Loss: 0.8453225016593933; F1 measure: 0.7446875\n",
      "Loss: 0.8442900443077087; F1 measure: 0.7456640625\n",
      "Loss: 0.8508477514982223; F1 measure: 0.7444140625\n",
      "Loss: 0.8468709772825241; F1 measure: 0.7457421875\n",
      "Loss: 0.8466305795907975; F1 measure: 0.74578125\n",
      "Eval -  0.5966546934865901\n",
      "CPU times: user 8min 35s, sys: 1.29 s, total: 8min 36s\n",
      "Wall time: 8min 36s\n"
     ]
    }
   ],
   "source": [
    "%%time\n",
    "f1s = []\n",
    "f1s_eval = []\n",
    "\n",
    "for i in range(15):\n",
    "    print('epoch:', i)\n",
    "    f1s.append(train(model, training_generator, optimizer, criterion, 100))\n",
    "    evl = evaluate(model, valid_generator, criterion)\n",
    "    print('Eval - ', evl)\n",
    "    f1s_eval.append(evl)"
   ]
  },
  {
   "cell_type": "code",
   "execution_count": 22,
   "id": "revolutionary-advice",
   "metadata": {},
   "outputs": [
    {
     "data": {
      "image/png": "[encoded data removed]",
      "text/plain": [
       "<Figure size 432x288 with 1 Axes>"
      ]
     },
     "metadata": {
      "needs_background": "light"
     },
     "output_type": "display_data"
    }
   ],
   "source": [
    "plt.plot(f1s)\n",
    "plt.plot(f1s_eval)\n",
    "plt.title('model f1 micro')\n",
    "plt.ylabel('f1')\n",
    "plt.xlabel('epoch')\n",
    "plt.legend(['train', 'val'], loc='upper left')\n",
    "plt.show()"
   ]
  },
  {
   "cell_type": "markdown",
   "id": "sweet-endorsement",
   "metadata": {},
   "source": [
    "На валидации f1 падает("
   ]
  },
  {
   "cell_type": "code",
   "execution_count": null,
   "id": "opened-foundation",
   "metadata": {},
   "outputs": [],
   "source": []
  },
  {
   "cell_type": "code",
   "execution_count": null,
   "id": "welsh-monaco",
   "metadata": {},
   "outputs": [],
   "source": []
  }
 ],
 "metadata": {
  "kernelspec": {
   "display_name": "python3.8",
   "language": "python",
   "name": "python3.8"
  },
  "language_info": {
   "codemirror_mode": {
    "name": "ipython",
    "version": 3
   },
   "file_extension": ".py",
   "mimetype": "text/x-python",
   "name": "python",
   "nbconvert_exporter": "python",
   "pygments_lexer": "ipython3",
   "version": "3.8.8"
  }
 },
 "nbformat": 4,
 "nbformat_minor": 5
}
