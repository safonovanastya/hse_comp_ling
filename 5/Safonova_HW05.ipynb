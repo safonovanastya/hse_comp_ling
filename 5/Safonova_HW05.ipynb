{
 "cells": [
  {
   "cell_type": "markdown",
   "id": "dominican-brown",
   "metadata": {},
   "source": [
    "# HW05 Subword_tokenization"
   ]
  },
  {
   "cell_type": "markdown",
   "id": "democratic-andrews",
   "metadata": {},
   "source": [
    "## 1. Делаем упрощенную версию byte pair encoding"
   ]
  },
  {
   "cell_type": "code",
   "execution_count": 1,
   "id": "actual-processor",
   "metadata": {},
   "outputs": [],
   "source": [
    "import re\n",
    "import numpy as np\n",
    "import pandas as pd\n",
    "from scipy.sparse import lil_matrix\n",
    "from collections import Counter, defaultdict\n",
    "from tokenizers import CharBPETokenizer, Tokenizer\n",
    "\n",
    "from sklearn.linear_model import LogisticRegression\n",
    "from sklearn.model_selection import train_test_split\n",
    "from sklearn.model_selection import StratifiedKFold\n",
    "from sklearn.model_selection import cross_val_score\n",
    "from sklearn.metrics import classification_report, accuracy_score, f1_score\n",
    "from sklearn.linear_model import SGDClassifier\n",
    "from sklearn.model_selection import cross_val_score"
   ]
  },
  {
   "cell_type": "code",
   "execution_count": 2,
   "id": "extra-french",
   "metadata": {},
   "outputs": [],
   "source": [
    "with open('data/lenta.txt', 'r', encoding='utf-8') as f: text = f.read()"
   ]
  },
  {
   "cell_type": "code",
   "execution_count": 3,
   "id": "mathematical-reform",
   "metadata": {},
   "outputs": [],
   "source": [
    "text = text[:50000].lower()"
   ]
  },
  {
   "cell_type": "code",
   "execution_count": 4,
   "id": "civil-quarter",
   "metadata": {},
   "outputs": [],
   "source": [
    "def statistics(text):\n",
    "    frequencies = {}\n",
    "    for i in range(len(text)-1):\n",
    "        next_symbol = text[i+1]\n",
    "        pair = text[i] + next_symbol\n",
    "        if pair in frequencies:\n",
    "            frequencies[pair] += 1\n",
    "        else:\n",
    "            frequencies[pair] = 1\n",
    "    return frequencies"
   ]
  },
  {
   "cell_type": "code",
   "execution_count": 5,
   "id": "improved-store",
   "metadata": {},
   "outputs": [],
   "source": [
    "def merge_most_freq(text, dictionary, k):\n",
    "    sort_dict = {}\n",
    "    keys = list(dictionary.keys())\n",
    "    keys = sorted(keys, key=lambda x: dictionary[x], reverse=True)\n",
    "    keys = keys[:k]\n",
    "    for key in keys:\n",
    "        sort_dict[key] = dictionary[key]\n",
    "    result = ()\n",
    "    process = True\n",
    "    for ind, sym in enumerate(text):\n",
    "        if process:\n",
    "            if ind < len(text)-1:\n",
    "                next_symbol = text[ind+1]\n",
    "            else:\n",
    "                result += tuple(sym, )\n",
    "                break\n",
    "            pair = sym + next_symbol\n",
    "            if pair in sort_dict: \n",
    "                result += (pair, )\n",
    "                process = False\n",
    "            else:\n",
    "                result += (sym, )\n",
    "        else:\n",
    "            process = True\n",
    "    return result"
   ]
  },
  {
   "cell_type": "code",
   "execution_count": 6,
   "id": "alone-conviction",
   "metadata": {},
   "outputs": [],
   "source": [
    "def bpe(text, n, k):\n",
    "    for i in range(n):\n",
    "        frequencies = statistics(text)\n",
    "        text = merge_most_freq(text, frequencies, k)\n",
    "    return text"
   ]
  },
  {
   "cell_type": "code",
   "execution_count": 7,
   "id": "swiss-pricing",
   "metadata": {},
   "outputs": [
    {
     "name": "stdout",
     "output_type": "stream",
     "text": [
      "--------------------------------------------------\n",
      "при n = 3 ,k = 8\n",
      "Всего токенов: 40539\n",
      "б|о|и |у| с|о|п|о|ц|к|и|н|а |и |д|р|у|с|к|ен|и|к| |з|а|ко|н|ч|и|л|и|с|ь| о|т|ст|у|п|л|ен|и|е|м| |г|ер|м|ан|ц|е|в|.| н|е|п|р|и|я|т|ел|ь|,| п|р|и|б|л|и|з|и|в|ш|и|с|ь| с| с|е|в|ер|а |к| о|с|ов|ц|у| н|а|ч|а|л| |а|р|т|и|л|л|ер\n",
      "Самый длинный: и \n",
      "--------------------------------------------------\n",
      "при n = 6 ,k = 15\n",
      "Всего токенов: 32566\n",
      "бо|и |у| с|о|по|ц|к|ин|а |и |д|ру|ск|ени|к| |за|ко|н|ч|ил|и|с|ь| о|т|ст|у|п|л|ени|е|м |г|ер|м|ан|ц|е|в|. |не|п|ри|я|те|ль|, |п|ри|б|ли|з|и|в|ш|и|с|ь| с| с|е|в|е|ра| |к| о|с|ов|ц|у| |на|ч|ал| |ар|т|ил|л|ер|и|й|ск|у|ю| |бо|р|ь|б|у| с| |к|ре|по|ст\n",
      "Самый длинный: что \n",
      "--------------------------------------------------\n",
      "при n = 9 ,k = 20\n",
      "Всего токенов: 28708\n",
      "бо|и |у| со|по|ц|ки|на |и |д|ру|ск|ени|к |за|кон|ч|и|ли|с|ь| от|ст|уп|лени|е|м |г|ер|м|ан|ц|е|в|. |не|при|я|тель|, |при|б|ли|з|и|в|ш|ис|ь| с| с|е|в|е|ра| |к| о|с|ов|ц|у| на|ч|ал| |ар|т|ил|л|ер|и|й|ск|ую| б|ор|ь|б|у| с| |к|ре|по|ст|ь|ю|.| в |ар|т|ил|л|ер|и|й|ско|м |бо\n",
      "Самый длинный: итель\n",
      "--------------------------------------------------\n",
      "при n = 12 ,k = 30\n",
      "Всего токенов: 24981\n",
      "бо|и |у| со|по|ц|ки|на| и |д|ру|ск|ени|к |за|кон|ч|ил|ис|ь| от|ступ|лени|ем| г|ер|м|ан|ц|ев|.| не|при|я|тель|, |при|б|ли|зи|вш|ис|ь| с| с|ев|ер|а |к| о|сов|ц|у| на|ч|ал| |арти|л|л|ер|ий|ск|ую| б|ор|ь|бу| с| к|ре|по|ст|ь|ю|.| в |арти|л|л|ер|ий|ско|м |бо|ю| при|ни|ма|ют| у|част|и|е |т|я|ж|ел|ы|е \n",
      "Самый длинный: ственно\n",
      "--------------------------------------------------\n",
      "при n = 16 ,k = 40\n",
      "Всего токенов: 21688\n",
      "б|о|и |у| со|по|ц|ки|на| и| дру|ск|ени|к| за|кон|чи|лись| от|ступ|лени|ем| |г|ер|м|ан|ц|ев|. |не|при|ятель|, |при|бли|зи|вши|сь| с| с|е|вер|а |к| о|сов|ц|у| на|ча|л| |арти|л|л|ери|йск|ую| б|ор|ь|бу| с| к|ре|по|ст|ью|. в |арти|л|л|ери|йско|м| б|о|ю| при|ни|ма|ют| участ|и|е |т|я|ж|ел|ы|е |ка|ли|б|ры|. с| р|ан|не\n",
      "Самый длинный:  правитель\n",
      "--------------------------------------------------\n",
      "при n = 20 ,k = 50\n",
      "Всего токенов: 19305\n",
      "бо|и |у| со|по|ц|ки|на| и| д|ру|ск|ени|к| за|кон|чи|лись| от|ступ|лени|ем| г|ер|ман|це|в|. |не|при|ятель|, |при|бли|зи|вши|сь| с| се|вер|а |к| о|сов|цу| на|ча|л |артиллери|йск|ую| б|ор|ь|бу| с| к|ре|по|ст|ью|. в |артиллери|й|ском| бо|ю| при|ни|ма|ют| участ|и|е |т|я|ж|ел|ы|е |ка|ли|б|ры|. с| ран|не|го| у|тра| 1|4| сентября |ого|нь| д|ос|ти|г| з\n",
      "Самый длинный: рачаево-черкеси\n"
     ]
    }
   ],
   "source": [
    "n = [3, 6, 9, 12, 16, 20]\n",
    "k = [8, 15, 20, 30, 40, 50]\n",
    "\n",
    "for i,j in zip(n, k):\n",
    "    result = bpe(text, i, j)\n",
    "    print('--------------------------------------------------')\n",
    "    print('при n = ' + str(i), ',k = ' + str(j))\n",
    "    print('Всего токенов: ' + str(len(result)))\n",
    "    print('|'.join(result[:100]))\n",
    "    print('Самый длинный: ' + str(sorted(result, key=lambda x: len(x), reverse=True)[0]))"
   ]
  },
  {
   "cell_type": "markdown",
   "id": "caring-survey",
   "metadata": {},
   "source": [
    "Он справляется не идеально, но какие-то черты токенов, близких к морфемам, проглядываются. По кажется, что чем больше n и k, тем лучше"
   ]
  },
  {
   "cell_type": "markdown",
   "id": "parallel-intellectual",
   "metadata": {},
   "source": [
    "### 2. Обучаем токенизатор из tokenizers на текстовом корпусе"
   ]
  },
  {
   "cell_type": "code",
   "execution_count": 8,
   "id": "leading-morning",
   "metadata": {},
   "outputs": [
    {
     "data": {
      "text/html": [
       "<div>\n",
       "<style scoped>\n",
       "    .dataframe tbody tr th:only-of-type {\n",
       "        vertical-align: middle;\n",
       "    }\n",
       "\n",
       "    .dataframe tbody tr th {\n",
       "        vertical-align: top;\n",
       "    }\n",
       "\n",
       "    .dataframe thead th {\n",
       "        text-align: right;\n",
       "    }\n",
       "</style>\n",
       "<table border=\"1\" class=\"dataframe\">\n",
       "  <thead>\n",
       "    <tr style=\"text-align: right;\">\n",
       "      <th></th>\n",
       "      <th>text</th>\n",
       "      <th>label</th>\n",
       "    </tr>\n",
       "  </thead>\n",
       "  <tbody>\n",
       "    <tr>\n",
       "      <th>0</th>\n",
       "      <td>наебалово века, для долбаёбов\\n</td>\n",
       "      <td>INSULT</td>\n",
       "    </tr>\n",
       "    <tr>\n",
       "      <th>1</th>\n",
       "      <td>вся дума в таком же положении😁\\n</td>\n",
       "      <td>NORMAL</td>\n",
       "    </tr>\n",
       "    <tr>\n",
       "      <th>2</th>\n",
       "      <td>а в каком месте массовое столкновение? шрайбик...</td>\n",
       "      <td>NORMAL</td>\n",
       "    </tr>\n",
       "    <tr>\n",
       "      <th>3</th>\n",
       "      <td>значит ли это, что контроль за вывозом крупног...</td>\n",
       "      <td>NORMAL</td>\n",
       "    </tr>\n",
       "    <tr>\n",
       "      <th>4</th>\n",
       "      <td>вам не нужен щеночек? очень хорошие 🐶🥰\\n</td>\n",
       "      <td>NORMAL</td>\n",
       "    </tr>\n",
       "  </tbody>\n",
       "</table>\n",
       "</div>"
      ],
      "text/plain": [
       "                                                text   label\n",
       "0                    наебалово века, для долбаёбов\\n  INSULT\n",
       "1                   вся дума в таком же положении😁\\n  NORMAL\n",
       "2  а в каком месте массовое столкновение? шрайбик...  NORMAL\n",
       "3  значит ли это, что контроль за вывозом крупног...  NORMAL\n",
       "4           вам не нужен щеночек? очень хорошие 🐶🥰\\n  NORMAL"
      ]
     },
     "execution_count": 8,
     "metadata": {},
     "output_type": "execute_result"
    }
   ],
   "source": [
    "df = pd.read_csv('data/dataset_ok.csv')\n",
    "data = df['text'].tolist()\n",
    "df.head(5)"
   ]
  },
  {
   "cell_type": "code",
   "execution_count": 9,
   "id": "northern-baking",
   "metadata": {},
   "outputs": [],
   "source": [
    "df['text'].to_csv('data/data.txt', index=False)"
   ]
  },
  {
   "cell_type": "code",
   "execution_count": 10,
   "id": "false-cologne",
   "metadata": {},
   "outputs": [],
   "source": [
    "subtoken = CharBPETokenizer()\n",
    "subtoken.train('data/data.txt', vocab_size=3000)\n",
    "\n",
    "subtoken.save('subtoken')\n",
    "subtoken = Tokenizer.from_file('subtoken')"
   ]
  },
  {
   "cell_type": "code",
   "execution_count": 11,
   "id": "cheap-making",
   "metadata": {},
   "outputs": [],
   "source": [
    "N = len(data)\n",
    "K = len(subtoken.get_vocab())\n",
    "\n",
    "X = lil_matrix((N, K))\n",
    "X_idf = lil_matrix((N, K))\n",
    "\n",
    "for i, text in enumerate(data):\n",
    "    token_ids = subtoken.encode(text).ids\n",
    "    for t in token_ids:\n",
    "        X[i, t] += 1\n",
    "        if X_idf[i, t] == 0:\n",
    "            X_idf[i, t] = 1"
   ]
  },
  {
   "cell_type": "code",
   "execution_count": 12,
   "id": "nervous-essay",
   "metadata": {},
   "outputs": [],
   "source": [
    "idf = pd.Series(X_idf.sum(axis=0).tolist()[0])\n",
    "idf = idf.apply(lambda x: np.log((1 + idf.shape[0]) / (1 + x)) + 1)"
   ]
  },
  {
   "cell_type": "code",
   "execution_count": 13,
   "id": "interracial-greeting",
   "metadata": {},
   "outputs": [
    {
     "data": {
      "text/plain": [
       "2997    3.683691\n",
       "2998    3.733701\n",
       "2999    3.678825\n",
       "dtype: float64"
      ]
     },
     "execution_count": 13,
     "metadata": {},
     "output_type": "execute_result"
    }
   ],
   "source": [
    "idf[-3:]"
   ]
  },
  {
   "cell_type": "code",
   "execution_count": 14,
   "id": "explicit-motor",
   "metadata": {},
   "outputs": [],
   "source": [
    "X = X.multiply(lil_matrix(idf.tolist()))\n",
    "X_train, X_test, y_train, y_test = train_test_split(X, df['label'], test_size=0.2, stratify=df['label'])"
   ]
  },
  {
   "cell_type": "code",
   "execution_count": 15,
   "id": "convenient-lecture",
   "metadata": {},
   "outputs": [
    {
     "name": "stderr",
     "output_type": "stream",
     "text": [
      "/home/nastia/miniconda3/envs/python3.8/lib/python3.8/site-packages/sklearn/linear_model/_stochastic_gradient.py:574: ConvergenceWarning: Maximum number of iteration reached before convergence. Consider increasing max_iter to improve the fit.\n",
      "  warnings.warn(\"Maximum number of iteration reached before \"\n",
      "/home/nastia/miniconda3/envs/python3.8/lib/python3.8/site-packages/sklearn/linear_model/_stochastic_gradient.py:574: ConvergenceWarning: Maximum number of iteration reached before convergence. Consider increasing max_iter to improve the fit.\n",
      "  warnings.warn(\"Maximum number of iteration reached before \"\n",
      "/home/nastia/miniconda3/envs/python3.8/lib/python3.8/site-packages/sklearn/linear_model/_stochastic_gradient.py:574: ConvergenceWarning: Maximum number of iteration reached before convergence. Consider increasing max_iter to improve the fit.\n",
      "  warnings.warn(\"Maximum number of iteration reached before \"\n",
      "/home/nastia/miniconda3/envs/python3.8/lib/python3.8/site-packages/sklearn/linear_model/_stochastic_gradient.py:574: ConvergenceWarning: Maximum number of iteration reached before convergence. Consider increasing max_iter to improve the fit.\n",
      "  warnings.warn(\"Maximum number of iteration reached before \"\n",
      "/home/nastia/miniconda3/envs/python3.8/lib/python3.8/site-packages/sklearn/linear_model/_stochastic_gradient.py:574: ConvergenceWarning: Maximum number of iteration reached before convergence. Consider increasing max_iter to improve the fit.\n",
      "  warnings.warn(\"Maximum number of iteration reached before \"\n"
     ]
    },
    {
     "data": {
      "text/plain": [
       "array([0.9284598 , 0.92160097, 0.92646293, 0.9275916 , 0.9260224 ])"
      ]
     },
     "execution_count": 15,
     "metadata": {},
     "output_type": "execute_result"
    }
   ],
   "source": [
    "classifier = SGDClassifier(loss=\"log\", max_iter=30)\n",
    "cross_val_score(classifier, X_train, y_train, scoring=\"f1_micro\")"
   ]
  }
 ],
 "metadata": {
  "kernelspec": {
   "display_name": "python3.8",
   "language": "python",
   "name": "python3.8"
  },
  "language_info": {
   "codemirror_mode": {
    "name": "ipython",
    "version": 3
   },
   "file_extension": ".py",
   "mimetype": "text/x-python",
   "name": "python",
   "nbconvert_exporter": "python",
   "pygments_lexer": "ipython3",
   "version": "3.8.8"
  }
 },
 "nbformat": 4,
 "nbformat_minor": 5
}
