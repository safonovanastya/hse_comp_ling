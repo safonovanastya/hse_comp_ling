{
 "cells": [
  {
   "cell_type": "markdown",
   "id": "aware-stockholm",
   "metadata": {},
   "source": [
    "# HW08. Алгоритм Леска "
   ]
  },
  {
   "cell_type": "code",
   "execution_count": 1,
   "id": "interracial-produce",
   "metadata": {},
   "outputs": [],
   "source": [
    "from nltk.corpus import wordnet as wn\n",
    "import nltk\n",
    "from collections import Counter"
   ]
  },
  {
   "cell_type": "code",
   "execution_count": 2,
   "id": "eligible-neutral",
   "metadata": {},
   "outputs": [],
   "source": [
    "def count_overlap(sentence_a, sentence_b):\n",
    "    result = sum((Counter(sentence_a) & Counter(sentence_b)).values())\n",
    "    return result"
   ]
  },
  {
   "cell_type": "code",
   "execution_count": 3,
   "id": "marked-soviet",
   "metadata": {},
   "outputs": [],
   "source": [
    "def lesk( word, sentence ):\n",
    "    bestsense = 0\n",
    "    maxoverlap = 0\n",
    "    synsets = wn.synsets(word)\n",
    "    \n",
    "    for i, syns in enumerate(synsets):\n",
    "        definition = syns.definition()\n",
    "        definition = definition.lower().split()\n",
    "        overlap = count_overlap(definition, sentence)\n",
    "        \n",
    "        if overlap > maxoverlap:\n",
    "            maxoverlap = overlap\n",
    "            bestsense = i\n",
    "             \n",
    "    return bestsense"
   ]
  },
  {
   "cell_type": "code",
   "execution_count": 4,
   "id": "particular-softball",
   "metadata": {},
   "outputs": [
    {
     "data": {
      "text/plain": [
       "1"
      ]
     },
     "execution_count": 4,
     "metadata": {},
     "output_type": "execute_result"
    }
   ],
   "source": [
    "# на вход подается элемент результата работы уже написанной вами функции get_words_in_context\n",
    "lesk('day', 'some point or period in time'.split()) # для примера контекст совпадает с одним из определений\n",
    "# а на выходе индекс подходящего синсета"
   ]
  },
  {
   "cell_type": "code",
   "execution_count": 5,
   "id": "quiet-treasury",
   "metadata": {},
   "outputs": [
    {
     "data": {
      "text/plain": [
       "[Synset('day.n.01'),\n",
       " Synset('day.n.02'),\n",
       " Synset('day.n.03'),\n",
       " Synset('day.n.04'),\n",
       " Synset('day.n.05'),\n",
       " Synset('day.n.06'),\n",
       " Synset('day.n.07'),\n",
       " Synset('sidereal_day.n.01'),\n",
       " Synset('day.n.09'),\n",
       " Synset('day.n.10')]"
      ]
     },
     "execution_count": 5,
     "metadata": {},
     "output_type": "execute_result"
    }
   ],
   "source": [
    "wn.synsets('day')"
   ]
  },
  {
   "cell_type": "code",
   "execution_count": 6,
   "id": "personalized-flash",
   "metadata": {},
   "outputs": [
    {
     "data": {
      "text/plain": [
       "'some point or period in time'"
      ]
     },
     "execution_count": 6,
     "metadata": {},
     "output_type": "execute_result"
    }
   ],
   "source": [
    "# с помощью этого индекса достаем нужный синсет\n",
    "wn.synsets('day')[1].definition()"
   ]
  },
  {
   "cell_type": "markdown",
   "id": "beneficial-choir",
   "metadata": {},
   "source": [
    "Проверьте насколько хорошо работает такой метод на реальном датасете. http://lcl.uniroma1.it/wsdeval/ - большой фреймворк для оценки WSD. Там много данных и я взял кусочек, чтобы не было проблем с памятью"
   ]
  },
  {
   "cell_type": "code",
   "execution_count": 7,
   "id": "happy-france",
   "metadata": {},
   "outputs": [],
   "source": [
    "corpus_wsd = []\n",
    "corpus = open('corpus_wsd_50k.txt').read().split('\\n\\n')\n",
    "for sent in corpus:\n",
    "    corpus_wsd.append([s.split('\\t') for s in sent.split('\\n')])"
   ]
  },
  {
   "cell_type": "code",
   "execution_count": 8,
   "id": "understanding-flexibility",
   "metadata": {},
   "outputs": [
    {
     "data": {
      "text/plain": [
       "[['', 'how', 'How'],\n",
       " ['long%3:00:02::', 'long', 'long'],\n",
       " ['', 'have', 'has'],\n",
       " ['', 'it', 'it'],\n",
       " ['be%2:42:03::', 'be', 'been'],\n",
       " ['', 'since', 'since'],\n",
       " ['', 'you', 'you'],\n",
       " ['review%2:31:00::', 'review', 'reviewed'],\n",
       " ['', 'the', 'the'],\n",
       " ['objective%1:09:00::', 'objective', 'objectives'],\n",
       " ['', 'of', 'of'],\n",
       " ['', 'you', 'your'],\n",
       " ['benefit%1:21:00::', 'benefit', 'benefit'],\n",
       " ['', 'and', 'and'],\n",
       " ['service%1:04:07::', 'service', 'service'],\n",
       " ['program%1:09:01::', 'program', 'program'],\n",
       " ['', '?', '?']]"
      ]
     },
     "execution_count": 8,
     "metadata": {},
     "output_type": "execute_result"
    }
   ],
   "source": [
    "corpus_wsd[0]"
   ]
  },
  {
   "cell_type": "code",
   "execution_count": 9,
   "id": "mineral-valentine",
   "metadata": {},
   "outputs": [
    {
     "data": {
      "text/plain": [
       "Synset('review.v.01')"
      ]
     },
     "execution_count": 9,
     "metadata": {},
     "output_type": "execute_result"
    }
   ],
   "source": [
    "wn.lemma_from_key('review%2:31:00::').synset()"
   ]
  },
  {
   "cell_type": "code",
   "execution_count": 10,
   "id": "double-split",
   "metadata": {},
   "outputs": [
    {
     "data": {
      "text/plain": [
       "Synset('long.a.01')"
      ]
     },
     "execution_count": 10,
     "metadata": {},
     "output_type": "execute_result"
    }
   ],
   "source": [
    "i = lesk('long', \"It was a long day\")\n",
    "wn.synsets('long')[i]"
   ]
  },
  {
   "cell_type": "code",
   "execution_count": 11,
   "id": "chubby-response",
   "metadata": {},
   "outputs": [
    {
     "data": {
      "text/plain": [
       "True"
      ]
     },
     "execution_count": 11,
     "metadata": {},
     "output_type": "execute_result"
    }
   ],
   "source": [
    "# тут подходит второй синсет (!в вашем решении вместо индекса единицы будет результат работы функции lesk)\n",
    "wn.synsets('long')[1] == wn.lemma_from_key('long%3:00:02::').synset()"
   ]
  },
  {
   "cell_type": "code",
   "execution_count": 12,
   "id": "unlimited-arlington",
   "metadata": {},
   "outputs": [
    {
     "data": {
      "text/plain": [
       "[(Synset('hanker.v.01'), False),\n",
       " (Synset('long.a.01'), True),\n",
       " (Synset('long.a.02'), False),\n",
       " (Synset('long.s.03'), False),\n",
       " (Synset('retentive.a.01'), False),\n",
       " (Synset('long.a.05'), False),\n",
       " (Synset('long.a.06'), False),\n",
       " (Synset('long.s.07'), False),\n",
       " (Synset('farseeing.s.02'), False),\n",
       " (Synset('long.s.09'), False),\n",
       " (Synset('long.r.01'), False),\n",
       " (Synset('long.r.02'), False)]"
      ]
     },
     "execution_count": 12,
     "metadata": {},
     "output_type": "execute_result"
    }
   ],
   "source": [
    "# можно сравнить со всеми, чтобы убедиться\n",
    "[(syns, wn.synsets('long')[i] == wn.lemma_from_key('long%3:00:02::').synset()) \n",
    "  for i, syns in enumerate(wn.synsets('long'))]"
   ]
  },
  {
   "cell_type": "markdown",
   "id": "sustainable-roller",
   "metadata": {},
   "source": [
    "#### Вам нужно для каждого многозначного слова (т.е. у него есть тэг в первом поле) с помощью алгоритма Леска предсказать нужный синсет и сравнить с правильным. Посчитайте процент правильных предсказаний (accuracy).\n",
    "\n",
    "Если считается слишком долго, возьмите поменьше предложений (например, только тысячу)\n"
   ]
  },
  {
   "cell_type": "code",
   "execution_count": 13,
   "id": "aerial-stocks",
   "metadata": {},
   "outputs": [
    {
     "name": "stdout",
     "output_type": "stream",
     "text": [
      "accuracy: 0.35574261992619927\n"
     ]
    }
   ],
   "source": [
    "true = 0\n",
    "total = 0\n",
    "\n",
    "for sent in corpus_wsd[:1000]:\n",
    "    for sense, lemma, word in sent:\n",
    "        if sense:\n",
    "            total += 1\n",
    "            context = \" \".join([s[2] for s in sent])\n",
    "            ind = lesk(lemma, context)\n",
    "            try:\n",
    "                if wn.synsets(lemma)[ind] == wn.lemma_from_key(sense).synset():\n",
    "                    true += 1\n",
    "            except:\n",
    "                pass\n",
    "\n",
    "print('accuracy:', (true/total))"
   ]
  }
 ],
 "metadata": {
  "kernelspec": {
   "display_name": "python3.8",
   "language": "python",
   "name": "python3.8"
  },
  "language_info": {
   "codemirror_mode": {
    "name": "ipython",
    "version": 3
   },
   "file_extension": ".py",
   "mimetype": "text/x-python",
   "name": "python",
   "nbconvert_exporter": "python",
   "pygments_lexer": "ipython3",
   "version": "3.8.8"
  }
 },
 "nbformat": 4,
 "nbformat_minor": 5
}
