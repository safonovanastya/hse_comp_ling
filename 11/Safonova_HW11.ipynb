{
 "cells": [
  {
   "cell_type": "markdown",
   "id": "japanese-cancer",
   "metadata": {},
   "source": [
    "# HW11 Deep learning practical intro"
   ]
  },
  {
   "cell_type": "code",
   "execution_count": 1,
   "id": "revised-voice",
   "metadata": {},
   "outputs": [],
   "source": [
    "from collections import Counter\n",
    "import pandas as pd\n",
    "import numpy as np\n",
    "from string import punctuation\n",
    "\n",
    "import gensim\n",
    "from sklearn.metrics import classification_report\n",
    "from sklearn.model_selection import train_test_split\n",
    "import torch\n",
    "import torch.nn as nn\n",
    "import torch.nn.functional as F\n",
    "import torch.optim as optim\n",
    "\n",
    "import matplotlib.pyplot as plt"
   ]
  },
  {
   "cell_type": "markdown",
   "id": "alert-functionality",
   "metadata": {},
   "source": [
    "## Делаем классификацию на torch"
   ]
  },
  {
   "cell_type": "markdown",
   "id": "disturbed-senior",
   "metadata": {},
   "source": [
    "#### Подготовим данные "
   ]
  },
  {
   "cell_type": "code",
   "execution_count": 2,
   "id": "blocked-contrast",
   "metadata": {},
   "outputs": [
    {
     "data": {
      "text/html": [
       "<div>\n",
       "<style scoped>\n",
       "    .dataframe tbody tr th:only-of-type {\n",
       "        vertical-align: middle;\n",
       "    }\n",
       "\n",
       "    .dataframe tbody tr th {\n",
       "        vertical-align: top;\n",
       "    }\n",
       "\n",
       "    .dataframe thead th {\n",
       "        text-align: right;\n",
       "    }\n",
       "</style>\n",
       "<table border=\"1\" class=\"dataframe\">\n",
       "  <thead>\n",
       "    <tr style=\"text-align: right;\">\n",
       "      <th></th>\n",
       "      <th>qid</th>\n",
       "      <th>question_text</th>\n",
       "      <th>target</th>\n",
       "    </tr>\n",
       "  </thead>\n",
       "  <tbody>\n",
       "    <tr>\n",
       "      <th>0</th>\n",
       "      <td>00002165364db923c7e6</td>\n",
       "      <td>How did Quebec nationalists see their province...</td>\n",
       "      <td>0</td>\n",
       "    </tr>\n",
       "    <tr>\n",
       "      <th>1</th>\n",
       "      <td>000032939017120e6e44</td>\n",
       "      <td>Do you have an adopted dog, how would you enco...</td>\n",
       "      <td>0</td>\n",
       "    </tr>\n",
       "    <tr>\n",
       "      <th>2</th>\n",
       "      <td>0000412ca6e4628ce2cf</td>\n",
       "      <td>Why does velocity affect time? Does velocity a...</td>\n",
       "      <td>0</td>\n",
       "    </tr>\n",
       "    <tr>\n",
       "      <th>3</th>\n",
       "      <td>000042bf85aa498cd78e</td>\n",
       "      <td>How did Otto von Guericke used the Magdeburg h...</td>\n",
       "      <td>0</td>\n",
       "    </tr>\n",
       "    <tr>\n",
       "      <th>4</th>\n",
       "      <td>0000455dfa3e01eae3af</td>\n",
       "      <td>Can I convert montra helicon D to a mountain b...</td>\n",
       "      <td>0</td>\n",
       "    </tr>\n",
       "  </tbody>\n",
       "</table>\n",
       "</div>"
      ],
      "text/plain": [
       "                    qid                                      question_text  \\\n",
       "0  00002165364db923c7e6  How did Quebec nationalists see their province...   \n",
       "1  000032939017120e6e44  Do you have an adopted dog, how would you enco...   \n",
       "2  0000412ca6e4628ce2cf  Why does velocity affect time? Does velocity a...   \n",
       "3  000042bf85aa498cd78e  How did Otto von Guericke used the Magdeburg h...   \n",
       "4  0000455dfa3e01eae3af  Can I convert montra helicon D to a mountain b...   \n",
       "\n",
       "   target  \n",
       "0       0  \n",
       "1       0  \n",
       "2       0  \n",
       "3       0  \n",
       "4       0  "
      ]
     },
     "execution_count": 2,
     "metadata": {},
     "output_type": "execute_result"
    }
   ],
   "source": [
    "data = pd.read_csv('quora.csv')\n",
    "data.head()"
   ]
  },
  {
   "cell_type": "code",
   "execution_count": 3,
   "id": "artistic-waste",
   "metadata": {},
   "outputs": [],
   "source": [
    "def preprocess(text):\n",
    "    tokens = text.lower().split()\n",
    "    tokens = [token.strip(punctuation) for token in tokens]\n",
    "    return tokens"
   ]
  },
  {
   "cell_type": "code",
   "execution_count": 5,
   "id": "julian-indicator",
   "metadata": {},
   "outputs": [],
   "source": [
    "vocab = Counter()\n",
    "\n",
    "for text in data.question_text:\n",
    "    vocab.update(preprocess(text))"
   ]
  },
  {
   "cell_type": "code",
   "execution_count": 10,
   "id": "olive-coverage",
   "metadata": {},
   "outputs": [
    {
     "data": {
      "text/plain": [
       "273056"
      ]
     },
     "execution_count": 10,
     "metadata": {},
     "output_type": "execute_result"
    }
   ],
   "source": [
    "len(vocab)"
   ]
  },
  {
   "cell_type": "code",
   "execution_count": 11,
   "id": "possible-allah",
   "metadata": {},
   "outputs": [],
   "source": [
    "filtered_vocab = set()\n",
    "\n",
    "for word in vocab:\n",
    "    if vocab[word] > 50:\n",
    "        filtered_vocab.add(word)"
   ]
  },
  {
   "cell_type": "code",
   "execution_count": 12,
   "id": "worthy-ivory",
   "metadata": {},
   "outputs": [
    {
     "data": {
      "text/plain": [
       "14083"
      ]
     },
     "execution_count": 12,
     "metadata": {},
     "output_type": "execute_result"
    }
   ],
   "source": [
    "len(filtered_vocab)"
   ]
  },
  {
   "cell_type": "code",
   "execution_count": 13,
   "id": "analyzed-hopkins",
   "metadata": {},
   "outputs": [],
   "source": [
    "word2id = {'PAD':0}\n",
    "for word in filtered_vocab:\n",
    "    word2id[word] = len(word2id)\n",
    "id2word = {i:word for word, i in word2id.items()}"
   ]
  },
  {
   "cell_type": "code",
   "execution_count": 14,
   "id": "noticed-explanation",
   "metadata": {},
   "outputs": [],
   "source": [
    "id2word = {i:word for word, i in word2id.items()}"
   ]
  },
  {
   "cell_type": "code",
   "execution_count": 15,
   "id": "muslim-harbor",
   "metadata": {},
   "outputs": [],
   "source": [
    "class Dataset(torch.utils.data.Dataset):\n",
    "\n",
    "    def __init__(self, dataset, word2id, MAX_LEN, text_field, target_field):\n",
    "        \n",
    "        self.dataset = dataset[text_field].values\n",
    "        \n",
    "        self.word2id = word2id\n",
    "        self.MAX_LEN = MAX_LEN\n",
    "        self.length = dataset.shape[0]\n",
    "        self.target = torch.Tensor(dataset[target_field].values)\n",
    "\n",
    "    def __len__(self):\n",
    "        return self.length\n",
    "\n",
    "    def __getitem__(self, index):\n",
    "\n",
    "        tokens = self.preprocess(self.dataset[index])\n",
    "        ids = [self.word2id[token] for token in tokens if token in self.word2id][:MAX_LEN]\n",
    "        ids = torch.nn.functional.pad(torch.LongTensor(ids), \n",
    "                                (0, self.MAX_LEN-len(ids)), \n",
    "                                mode='constant',\n",
    "                                value=0)\n",
    "        y = self.target[index]\n",
    "        return ids, y\n",
    "    \n",
    "    def preprocess(self, text):\n",
    "        tokens = text.lower().split()\n",
    "        tokens = [token.strip(punctuation) for token in tokens]\n",
    "        tokens = [token for token in tokens if token]\n",
    "        return tokens"
   ]
  },
  {
   "cell_type": "code",
   "execution_count": 16,
   "id": "oriented-absence",
   "metadata": {},
   "outputs": [
    {
     "data": {
      "text/plain": [
       "device(type='cuda')"
      ]
     },
     "execution_count": 16,
     "metadata": {},
     "output_type": "execute_result"
    }
   ],
   "source": [
    "MAX_LEN = 100\n",
    "RANDOM_SEED = 23\n",
    "device = torch.device('cuda' if torch.cuda.is_available() else 'cpu')\n",
    "device"
   ]
  },
  {
   "cell_type": "code",
   "execution_count": 18,
   "id": "vocational-apple",
   "metadata": {},
   "outputs": [],
   "source": [
    "train_dataset, valid_dataset = train_test_split(data, test_size=0.05, random_state=RANDOM_SEED, stratify=data.target)"
   ]
  },
  {
   "cell_type": "code",
   "execution_count": 21,
   "id": "approximate-appeal",
   "metadata": {},
   "outputs": [
    {
     "name": "stdout",
     "output_type": "stream",
     "text": [
      "train data: 1240815 valid data: 65307\n"
     ]
    }
   ],
   "source": [
    "training_set = Dataset(train_dataset, word2id, MAX_LEN, 'question_text', 'target')\n",
    "training_generator = torch.utils.data.DataLoader(training_set, batch_size=256)\n",
    "\n",
    "valid_set = Dataset(valid_dataset, word2id, MAX_LEN, 'question_text', 'target')\n",
    "valid_generator = torch.utils.data.DataLoader(valid_set, batch_size=256)\n",
    "print('train data:', len(train_dataset), 'valid data:', len(valid_dataset))"
   ]
  },
  {
   "cell_type": "code",
   "execution_count": 25,
   "id": "amazing-honolulu",
   "metadata": {},
   "outputs": [],
   "source": [
    "def binary_accuracy(preds, y):\n",
    "    rounded_preds = torch.round(preds)\n",
    "    correct = (rounded_preds == y).float() \n",
    "    acc = correct.sum() / len(correct)\n",
    "    return acc\n",
    "\n",
    "\n",
    "def train(model, iterator, optimizer, criterion, print_every=1000):\n",
    "    \n",
    "    epoch_loss = 0\n",
    "    epoch_acc = 0\n",
    "    \n",
    "    model.train()  \n",
    "\n",
    "    for i, (texts, ys) in enumerate(iterator):\n",
    "        \n",
    "        optimizer.zero_grad()   \n",
    "        predictions = model(texts.to(device)).squeeze()  \n",
    "        loss = criterion(predictions.float(), ys.to(device).float())        \n",
    "        acc = binary_accuracy(predictions.float(), ys.to(device).float())\n",
    "        loss.backward()     \n",
    "        \n",
    "        optimizer.step()      \n",
    "        epoch_loss += loss.item()  \n",
    "        epoch_acc += acc.item()\n",
    "        \n",
    "        if not (i+1) % print_every:\n",
    "            print(f'Loss: {epoch_loss/i}; Accuracy: {epoch_acc/i}')\n",
    "        \n",
    "    return epoch_acc / len(iterator)\n",
    "\n",
    "\n",
    "def evaluate(model, iterator, criterion):\n",
    "    \n",
    "    epoch_loss = 0\n",
    "    epoch_acc = 0\n",
    "    \n",
    "    model.eval()  \n",
    "    with torch.no_grad():\n",
    "        for texts, ys in iterator:   \n",
    "\n",
    "            predictions = model(texts.to(device)).squeeze()  \n",
    "            loss = criterion(predictions.float(), ys.to(device).float())        \n",
    "            acc = binary_accuracy(predictions.float(), ys.to(device).float())\n",
    "\n",
    "            epoch_loss += loss.item()  \n",
    "            epoch_acc += acc.item()\n",
    "            \n",
    "    return epoch_acc / len(iterator)"
   ]
  },
  {
   "cell_type": "markdown",
   "id": "armed-sunset",
   "metadata": {},
   "source": [
    "## 1. a) Конкатенируем эмбединги в один большой эмбединг"
   ]
  },
  {
   "cell_type": "code",
   "execution_count": 35,
   "id": "bridal-memorial",
   "metadata": {},
   "outputs": [],
   "source": [
    "class Clf_flatten(nn.Module):\n",
    "    \n",
    "    def __init__(self, vocab_size, embedding_dim, output_dim):\n",
    "        \n",
    "        super().__init__()          \n",
    "        self.embedding = nn.Embedding(vocab_size, embedding_dim)\n",
    "        self.fc = nn.Linear(embedding_dim, output_dim) # размер склееного вектора - размер эмбединга на MAX_LEN\n",
    "        self.act = nn.Sigmoid() \n",
    "        \n",
    "    def forward(self, text):\n",
    "        \n",
    "        embedded = self.embedding(text)   \n",
    "        embedded_mean = torch.mean(embedded, dim=1)\n",
    "        dense_outputs = self.fc(embedded_mean)\n",
    "        outputs=self.act(dense_outputs)\n",
    "        \n",
    "        return outputs"
   ]
  },
  {
   "cell_type": "code",
   "execution_count": 36,
   "id": "cordless-ground",
   "metadata": {},
   "outputs": [],
   "source": [
    "model = Clf_flatten(len(word2id), embedding_dim=30, output_dim=1)\n",
    "\n",
    "optimizer = optim.Adam(model.parameters())\n",
    "criterion = nn.BCELoss() \n",
    "\n",
    "model = model.to(device)\n",
    "criterion = criterion.to(device)"
   ]
  },
  {
   "cell_type": "code",
   "execution_count": 37,
   "id": "fallen-reducing",
   "metadata": {},
   "outputs": [
    {
     "name": "stdout",
     "output_type": "stream",
     "text": [
      "epoch: 0\n",
      "Loss: 0.24181512908057287; Accuracy: 0.9387160598098098\n",
      "Loss: 0.22611440297005592; Accuracy: 0.9384086574537268\n",
      "Loss: 0.21148664028535646; Accuracy: 0.9388637358286095\n",
      "Loss: 0.198300948433129; Accuracy: 0.9399791354088523\n",
      "epoch: 1\n",
      "Loss: 0.145736865460634; Accuracy: 0.9469821383883884\n",
      "Loss: 0.14317663983367812; Accuracy: 0.9473095922961481\n",
      "Loss: 0.14127500575854404; Accuracy: 0.9476661491330444\n",
      "Loss: 0.13935613724426138; Accuracy: 0.9481491466616654\n",
      "epoch: 2\n",
      "Loss: 0.13148896863779147; Accuracy: 0.9510447947947948\n",
      "Loss: 0.13057450456297834; Accuracy: 0.9509696254377189\n",
      "Loss: 0.1298138218391196; Accuracy: 0.9509680310103368\n",
      "Loss: 0.1289431797976299; Accuracy: 0.9511078941610402\n",
      "epoch: 3\n",
      "Loss: 0.12579599857046916; Accuracy: 0.952733983983984\n",
      "Loss: 0.125342135923752; Accuracy: 0.9525329070785392\n",
      "Loss: 0.12488256890491949; Accuracy: 0.952445085861954\n",
      "Loss: 0.12430602481351641; Accuracy: 0.9525242638784697\n",
      "epoch: 4\n",
      "Loss: 0.12256507727283018; Accuracy: 0.953832738988989\n",
      "Loss: 0.12232097162081934; Accuracy: 0.9534884629814907\n",
      "Loss: 0.12200423772283775; Accuracy: 0.9533659657385796\n",
      "Loss: 0.1215547133692654; Accuracy: 0.9534278100775194\n",
      "CPU times: user 3min 43s, sys: 831 ms, total: 3min 44s\n",
      "Wall time: 3min 44s\n"
     ]
    }
   ],
   "source": [
    "%%time\n",
    "accs = []\n",
    "accs_eval = []\n",
    "for i in range(5):\n",
    "    print('epoch:', i)\n",
    "    accs.append(train(model, training_generator, optimizer, criterion))\n",
    "    accs_eval.append(evaluate(model, valid_generator, criterion))"
   ]
  },
  {
   "cell_type": "code",
   "execution_count": 38,
   "id": "functioning-worship",
   "metadata": {},
   "outputs": [
    {
     "data": {
      "image/png": "[encoded data removed]",
      "text/plain": [
       "<Figure size 432x288 with 1 Axes>"
      ]
     },
     "metadata": {
      "needs_background": "light"
     },
     "output_type": "display_data"
    }
   ],
   "source": [
    "plt.plot(np.sqrt(accs))\n",
    "plt.plot(np.sqrt(accs_eval))\n",
    "plt.title('flatten Accuracy')\n",
    "plt.ylabel('Acc')\n",
    "plt.xlabel('epoch')\n",
    "plt.legend(['train', 'val'], loc='upper left')\n",
    "plt.show()"
   ]
  },
  {
   "cell_type": "code",
   "execution_count": 39,
   "id": "consistent-joshua",
   "metadata": {},
   "outputs": [],
   "source": [
    "preds = []\n",
    "targets = []\n",
    "for texts, ys in valid_generator:\n",
    "    preds += model(texts.to(device)).squeeze().detach().to('cpu').numpy().tolist()\n",
    "    targets += ys.numpy().tolist()"
   ]
  },
  {
   "cell_type": "code",
   "execution_count": 40,
   "id": "vanilla-april",
   "metadata": {},
   "outputs": [
    {
     "name": "stdout",
     "output_type": "stream",
     "text": [
      "              precision    recall  f1-score   support\n",
      "\n",
      "         0.0       0.97      0.98      0.97     61266\n",
      "         1.0       0.62      0.58      0.60      4041\n",
      "\n",
      "    accuracy                           0.95     65307\n",
      "   macro avg       0.80      0.78      0.79     65307\n",
      "weighted avg       0.95      0.95      0.95     65307\n",
      "\n"
     ]
    }
   ],
   "source": [
    "print(classification_report(targets, (np.array(preds) > 0.3).astype(int)))"
   ]
  },
  {
   "cell_type": "markdown",
   "id": "better-notification",
   "metadata": {},
   "source": [
    "## 1. б) Усредним эмбединги"
   ]
  },
  {
   "cell_type": "code",
   "execution_count": 41,
   "id": "missing-recorder",
   "metadata": {},
   "outputs": [],
   "source": [
    "class Clf_mean(nn.Module):\n",
    "    \n",
    "    def __init__(self, vocab_size, embedding_dim, output_dim):\n",
    "        \n",
    "        super().__init__()          \n",
    "        self.embedding = nn.Embedding(vocab_size, embedding_dim)\n",
    "        self.fc = nn.Linear(embedding_dim, output_dim) # размер склееного вектора - размер эмбединга на MAX_LEN\n",
    "        self.act = nn.Sigmoid() \n",
    "        \n",
    "    def forward(self, text):\n",
    "        \n",
    "        embedded = self.embedding(text)   \n",
    "        embedded_mean = torch.mean(embedded, dim=1)\n",
    "        dense_outputs = self.fc(embedded_mean)\n",
    "        outputs=self.act(dense_outputs)\n",
    "        \n",
    "        return outputs"
   ]
  },
  {
   "cell_type": "code",
   "execution_count": 42,
   "id": "judicial-cover",
   "metadata": {},
   "outputs": [],
   "source": [
    "model = Clf_mean(len(word2id), embedding_dim=40, output_dim=1)\n",
    "\n",
    "optimizer = optim.Adam(model.parameters(), lr=1e-4)\n",
    "criterion = nn.BCELoss() \n",
    "\n",
    "model = model.to(device)\n",
    "criterion = criterion.to(device)"
   ]
  },
  {
   "cell_type": "code",
   "execution_count": 44,
   "id": "based-concern",
   "metadata": {},
   "outputs": [
    {
     "name": "stdout",
     "output_type": "stream",
     "text": [
      "epoch: 0\n",
      "Loss: 0.16840910983157228; Accuracy: 0.9420279654654654\n",
      "Loss: 0.1670099409476944; Accuracy: 0.9417970704102051\n",
      "Loss: 0.1660798907990494; Accuracy: 0.9418946940646882\n",
      "Loss: 0.16480583795929707; Accuracy: 0.9421925793948487\n",
      "epoch: 1\n",
      "Loss: 0.16052054767464255; Accuracy: 0.9433652402402403\n",
      "Loss: 0.15947908904028868; Accuracy: 0.9432040238869435\n",
      "Loss: 0.1588818003343081; Accuracy: 0.9432219594031344\n",
      "Loss: 0.15788930393131292; Accuracy: 0.9434428919729932\n",
      "epoch: 2\n",
      "Loss: 0.15523866537186476; Accuracy: 0.9446282219719719\n",
      "Loss: 0.15438800999869579; Accuracy: 0.9444487868934467\n",
      "Loss: 0.15395591876315212; Accuracy: 0.9443304018006002\n",
      "Loss: 0.15311260056938342; Accuracy: 0.9444978432108027\n",
      "epoch: 3\n",
      "Loss: 0.1512766502894558; Accuracy: 0.9454493556056056\n",
      "Loss: 0.15053156706662463; Accuracy: 0.9453769853676839\n",
      "Loss: 0.15018256319169404; Accuracy: 0.9452708194398133\n",
      "Loss: 0.14942655302295388; Accuracy: 0.9454219023505877\n",
      "epoch: 4\n",
      "Loss: 0.1480329181398596; Accuracy: 0.9462783095595596\n",
      "Loss: 0.14735831248351727; Accuracy: 0.9461977082291145\n",
      "Loss: 0.14705761905142212; Accuracy: 0.9460353972157386\n",
      "Loss: 0.14636350431667922; Accuracy: 0.9462092085521381\n",
      "CPU times: user 3min 42s, sys: 1.04 s, total: 3min 43s\n",
      "Wall time: 3min 43s\n"
     ]
    }
   ],
   "source": [
    "%%time\n",
    "accs = []\n",
    "accs_eval = []\n",
    "for i in range(5):\n",
    "    print('epoch:', i)\n",
    "    accs.append(train(model, training_generator, optimizer, criterion))\n",
    "    accs_eval.append(evaluate(model, valid_generator, criterion))"
   ]
  },
  {
   "cell_type": "code",
   "execution_count": 45,
   "id": "improved-finder",
   "metadata": {},
   "outputs": [
    {
     "data": {
      "image/png": "[encoded data removed]",
      "text/plain": [
       "<Figure size 432x288 with 1 Axes>"
      ]
     },
     "metadata": {
      "needs_background": "light"
     },
     "output_type": "display_data"
    }
   ],
   "source": [
    "plt.plot(np.sqrt(accs))\n",
    "plt.plot(np.sqrt(accs_eval))\n",
    "plt.title('model Accuracy')\n",
    "plt.ylabel('Acc')\n",
    "plt.xlabel('epoch')\n",
    "plt.legend(['train', 'val'], loc='upper left')\n",
    "plt.show()"
   ]
  },
  {
   "cell_type": "code",
   "execution_count": 46,
   "id": "stone-reliance",
   "metadata": {},
   "outputs": [],
   "source": [
    "preds = []\n",
    "targets = []\n",
    "for texts, ys in valid_generator:\n",
    "    preds += model(texts.to(device)).squeeze().detach().to('cpu').numpy().tolist()\n",
    "    targets += ys.numpy().tolist()"
   ]
  },
  {
   "cell_type": "code",
   "execution_count": 47,
   "id": "excited-playlist",
   "metadata": {},
   "outputs": [
    {
     "name": "stdout",
     "output_type": "stream",
     "text": [
      "              precision    recall  f1-score   support\n",
      "\n",
      "         0.0       0.97      0.96      0.97     61266\n",
      "         1.0       0.49      0.57      0.53      4041\n",
      "\n",
      "    accuracy                           0.94     65307\n",
      "   macro avg       0.73      0.77      0.75     65307\n",
      "weighted avg       0.94      0.94      0.94     65307\n",
      "\n"
     ]
    }
   ],
   "source": [
    "print(classification_report(targets, (np.array(preds) > 0.2).astype(int)))"
   ]
  },
  {
   "cell_type": "markdown",
   "id": "ethical-coral",
   "metadata": {},
   "source": [
    "## 1. в) Сложим эмбединги"
   ]
  },
  {
   "cell_type": "code",
   "execution_count": 48,
   "id": "concerned-script",
   "metadata": {},
   "outputs": [],
   "source": [
    "class Clf_sum(nn.Module):\n",
    "    \n",
    "    def __init__(self, vocab_size, embedding_dim, output_dim):\n",
    "        \n",
    "        super().__init__()          \n",
    "        self.embedding = nn.Embedding(vocab_size, embedding_dim)\n",
    "        self.fc = nn.Linear(embedding_dim, output_dim) # размер склееного вектора - размер эмбединга на MAX_LEN\n",
    "        self.act = nn.Sigmoid() \n",
    "        \n",
    "    def forward(self, text):\n",
    "        \n",
    "        embedded = self.embedding(text)   \n",
    "        embedded_mean = torch.sum(embedded, dim=1)\n",
    "        dense_outputs = self.fc(embedded_mean)\n",
    "        outputs=self.act(dense_outputs)\n",
    "        \n",
    "        return outputs"
   ]
  },
  {
   "cell_type": "code",
   "execution_count": 49,
   "id": "rural-vegetarian",
   "metadata": {},
   "outputs": [],
   "source": [
    "model = Clf_sum(len(word2id), embedding_dim=50, output_dim=1)\n",
    "\n",
    "optimizer = optim.Adam(model.parameters())\n",
    "criterion = nn.BCELoss() \n",
    "\n",
    "model = model.to(device)\n",
    "criterion = criterion.to(device)"
   ]
  },
  {
   "cell_type": "code",
   "execution_count": 50,
   "id": "driving-talent",
   "metadata": {},
   "outputs": [
    {
     "name": "stdout",
     "output_type": "stream",
     "text": [
      "epoch: 0\n",
      "Loss: 0.23256248077592095; Accuracy: 0.9356661348848849\n",
      "Loss: 0.19365798038294937; Accuracy: 0.9405816189344672\n",
      "Loss: 0.17705109896943863; Accuracy: 0.9431008252750916\n",
      "Loss: 0.1668287042205141; Accuracy: 0.9448934499249813\n",
      "epoch: 1\n",
      "Loss: 0.12979553458658424; Accuracy: 0.953003785035035\n",
      "Loss: 0.12925030827045203; Accuracy: 0.9525524480990495\n",
      "Loss: 0.12915776845126123; Accuracy: 0.9523643297765922\n",
      "Loss: 0.12826763360362167; Accuracy: 0.9524910524506126\n",
      "epoch: 2\n",
      "Loss: 0.12456796735196977; Accuracy: 0.9544857357357357\n",
      "Loss: 0.12468242160733668; Accuracy: 0.9539945754127064\n",
      "Loss: 0.12502396014798836; Accuracy: 0.9536681497999333\n",
      "Loss: 0.12444630847271755; Accuracy: 0.9536866638534633\n",
      "epoch: 3\n",
      "Loss: 0.12296648694946244; Accuracy: 0.9551113613613613\n",
      "Loss: 0.12316736632985076; Accuracy: 0.954426431965983\n",
      "Loss: 0.12357206209977295; Accuracy: 0.9540615100866956\n",
      "Loss: 0.12304234303111104; Accuracy: 0.9540236621655414\n",
      "epoch: 4\n",
      "Loss: 0.12223096540546394; Accuracy: 0.9554046233733734\n",
      "Loss: 0.12241738789965058; Accuracy: 0.9547547211105553\n",
      "Loss: 0.12282044637268803; Accuracy: 0.9543806268756252\n",
      "Loss: 0.1222937554130333; Accuracy: 0.9543626140910227\n",
      "CPU times: user 3min 45s, sys: 934 ms, total: 3min 46s\n",
      "Wall time: 3min 45s\n"
     ]
    }
   ],
   "source": [
    "%%time\n",
    "accs = []\n",
    "accs_eval = []\n",
    "for i in range(5):\n",
    "    print('epoch:', i)\n",
    "    accs.append(train(model, training_generator, optimizer, criterion))\n",
    "    accs_eval.append(evaluate(model, valid_generator, criterion))"
   ]
  },
  {
   "cell_type": "code",
   "execution_count": 51,
   "id": "cordless-movie",
   "metadata": {},
   "outputs": [
    {
     "data": {
      "image/png": "[encoded data removed]",
      "text/plain": [
       "<Figure size 432x288 with 1 Axes>"
      ]
     },
     "metadata": {
      "needs_background": "light"
     },
     "output_type": "display_data"
    }
   ],
   "source": [
    "plt.plot(np.sqrt(accs))\n",
    "plt.plot(np.sqrt(accs_eval))\n",
    "plt.title('model Accuracy')\n",
    "plt.ylabel('Acc')\n",
    "plt.xlabel('epoch')\n",
    "plt.legend(['train', 'val'], loc='upper left')\n",
    "plt.show()"
   ]
  },
  {
   "cell_type": "code",
   "execution_count": 52,
   "id": "seventh-boutique",
   "metadata": {},
   "outputs": [],
   "source": [
    "preds = []\n",
    "targets = []\n",
    "for texts, ys in valid_generator:\n",
    "    preds += model(texts.to(device)).squeeze().detach().to('cpu').numpy().tolist()\n",
    "    targets += ys.numpy().tolist()"
   ]
  },
  {
   "cell_type": "code",
   "execution_count": 53,
   "id": "ecological-finding",
   "metadata": {},
   "outputs": [
    {
     "name": "stdout",
     "output_type": "stream",
     "text": [
      "              precision    recall  f1-score   support\n",
      "\n",
      "         0.0       0.97      0.97      0.97     61266\n",
      "         1.0       0.61      0.60      0.61      4041\n",
      "\n",
      "    accuracy                           0.95     65307\n",
      "   macro avg       0.79      0.79      0.79     65307\n",
      "weighted avg       0.95      0.95      0.95     65307\n",
      "\n"
     ]
    }
   ],
   "source": [
    "print(classification_report(targets, (np.array(preds) > 0.25).astype(int)))"
   ]
  },
  {
   "cell_type": "markdown",
   "id": "satisfied-professor",
   "metadata": {},
   "source": [
    "### Выводы:"
   ]
  },
  {
   "cell_type": "markdown",
   "id": "representative-athletics",
   "metadata": {},
   "source": [
    "Кажется,что разницы особо нет. Чуть хуже результаты получились при усреднении эмбедингов. "
   ]
  },
  {
   "cell_type": "markdown",
   "id": "visible-kingston",
   "metadata": {},
   "source": [
    "## 2. Используем сразу две предобученные эмбединг модели (Fasttext и Word2Vec)"
   ]
  },
  {
   "cell_type": "code",
   "execution_count": 54,
   "id": "under-amber",
   "metadata": {},
   "outputs": [],
   "source": [
    "from gensim.models import FastText\n",
    "from gensim.models import Word2Vec"
   ]
  },
  {
   "cell_type": "code",
   "execution_count": 55,
   "id": "increased-conditions",
   "metadata": {},
   "outputs": [],
   "source": [
    "texts = train_dataset.question_text.apply(preprocess).tolist()"
   ]
  },
  {
   "cell_type": "code",
   "execution_count": 57,
   "id": "independent-error",
   "metadata": {},
   "outputs": [],
   "source": [
    "ft = gensim.models.FastText(texts, size=100, iter=5)\n",
    "w2v = gensim.models.Word2Vec(texts, size=100, iter=5)"
   ]
  },
  {
   "cell_type": "code",
   "execution_count": 58,
   "id": "sixth-nightlife",
   "metadata": {},
   "outputs": [],
   "source": [
    "weights_ft = np.zeros((len(word2id), 100))\n",
    "\n",
    "for word, i in word2id.items():\n",
    "    if word == 'PAD':\n",
    "        continue   \n",
    "    try:\n",
    "        weights_ft[i] = ft.wv[word]\n",
    "    except KeyError:\n",
    "        weights_ft[i] = ft.wv['опрагпллирао']"
   ]
  },
  {
   "cell_type": "code",
   "execution_count": 59,
   "id": "protected-bunch",
   "metadata": {},
   "outputs": [],
   "source": [
    "weights_w2v = np.zeros((len(word2id), 100))\n",
    "\n",
    "for word, i in word2id.items():\n",
    "    if word == 'PAD':\n",
    "        continue   \n",
    "    try:\n",
    "        weights_w2v[i] = w2v.wv[word]\n",
    "    except KeyError:\n",
    "        weights_w2v[i] = w2v.wv['опрагпллирао']"
   ]
  },
  {
   "cell_type": "markdown",
   "id": "cooked-azerbaijan",
   "metadata": {},
   "source": [
    "### Усредним эмбединги"
   ]
  },
  {
   "cell_type": "code",
   "execution_count": 60,
   "id": "desirable-secondary",
   "metadata": {},
   "outputs": [],
   "source": [
    "class Clf_mean(nn.Module):\n",
    "    \n",
    "    def __init__(self, vocab_size, embedding_dim, \n",
    "                 embeddings_ft, embeddings_w2v, output_dim):\n",
    "        \n",
    "        super().__init__()          \n",
    "        self.ft_embedding = nn.Embedding(vocab_size, embedding_dim)\n",
    "        self.w2v_embedding = nn.Embedding(vocab_size, embedding_dim)\n",
    "\n",
    "        self.ft_embedding.from_pretrained(torch.tensor(embeddings_ft), freeze=True)\n",
    "        self.w2v_embedding.from_pretrained(torch.tensor(embeddings_w2v), freeze=True)\n",
    "\n",
    "        self.fc = nn.Linear(embedding_dim, output_dim)\n",
    "        self.act = nn.Sigmoid() \n",
    "        \n",
    "    def forward(self, text):\n",
    "        \n",
    "        embedded_ft = self.ft_embedding(text)   \n",
    "        embedded_ft = torch.mean(embedded_ft, dim=1)\n",
    "\n",
    "        embedded_w2v = self.w2v_embedding(text)   \n",
    "        embedded_w2v = torch.mean(embedded_w2v, dim=1)\n",
    "\n",
    "        embedded_mean = (embedded_w2v + embedded_ft) / 2\n",
    "        \n",
    "        dense_outputs = self.fc(embedded_mean)\n",
    "        outputs=self.act(dense_outputs)\n",
    "        \n",
    "        return outputs"
   ]
  },
  {
   "cell_type": "code",
   "execution_count": 61,
   "id": "alert-interstate",
   "metadata": {},
   "outputs": [],
   "source": [
    "model = Clf_mean(len(word2id), embedding_dim=100,\n",
    "            embeddings_ft=weights_ft, embeddings_w2v=weights_w2v, output_dim=1)\n",
    "\n",
    "optimizer = optim.Adam(model.parameters())\n",
    "criterion = nn.BCELoss() \n",
    "\n",
    "model = model.to(device)\n",
    "criterion = criterion.to(device)"
   ]
  },
  {
   "cell_type": "code",
   "execution_count": 62,
   "id": "suffering-stations",
   "metadata": {},
   "outputs": [
    {
     "name": "stdout",
     "output_type": "stream",
     "text": [
      "CPU times: user 5 µs, sys: 0 ns, total: 5 µs\n",
      "Wall time: 9.54 µs\n",
      "epoch: 0\n",
      "Loss: 0.2179425110345011; Accuracy: 0.9387629817317318\n",
      "Loss: 0.19392166302733685; Accuracy: 0.9400188375437719\n",
      "Loss: 0.1793381263883601; Accuracy: 0.9416537283261087\n",
      "Loss: 0.16958948484500608; Accuracy: 0.9431840381970492\n",
      "epoch: 1\n",
      "Loss: 0.13297896588349845; Accuracy: 0.9505990365365365\n",
      "Loss: 0.13139236282339212; Accuracy: 0.9507097298649325\n",
      "Loss: 0.130279259941913; Accuracy: 0.9507791659719906\n",
      "Loss: 0.12917753353726122; Accuracy: 0.9510737059264817\n",
      "epoch: 2\n",
      "Loss: 0.1242385821098143; Accuracy: 0.9531562812812813\n",
      "Loss: 0.12369920820064877; Accuracy: 0.9530272948974488\n",
      "Loss: 0.12330367988290371; Accuracy: 0.953014286012004\n",
      "Loss: 0.12278545284087165; Accuracy: 0.953088858152038\n",
      "epoch: 3\n",
      "Loss: 0.12071627068209338; Accuracy: 0.9545873998998999\n",
      "Loss: 0.12047600239820931; Accuracy: 0.9543130940470235\n",
      "Loss: 0.12028913478397775; Accuracy: 0.9541344510670223\n",
      "Loss: 0.11992354985959054; Accuracy: 0.9541486934233558\n",
      "epoch: 4\n",
      "Loss: 0.11887393868318549; Accuracy: 0.9554945570570571\n",
      "Loss: 0.11876438649044209; Accuracy: 0.9550204789894947\n",
      "Loss: 0.11866735813443006; Accuracy: 0.9547791972324108\n",
      "Loss: 0.11835144473336195; Accuracy: 0.9547689656789198\n"
     ]
    }
   ],
   "source": [
    "%%time\n",
    "accs = []\n",
    "accs_eval = []\n",
    "for i in range(5):\n",
    "    print('epoch:', i)\n",
    "    accs.append(train(model, training_generator, optimizer, criterion))\n",
    "    accs_eval.append(evaluate(model, valid_generator, criterion))"
   ]
  },
  {
   "cell_type": "code",
   "execution_count": 63,
   "id": "impossible-universe",
   "metadata": {},
   "outputs": [
    {
     "data": {
      "image/png": "[encoded data removed]",
      "text/plain": [
       "<Figure size 432x288 with 1 Axes>"
      ]
     },
     "metadata": {
      "needs_background": "light"
     },
     "output_type": "display_data"
    }
   ],
   "source": [
    "plt.plot(np.sqrt(accs))\n",
    "plt.plot(np.sqrt(accs_eval))\n",
    "plt.title('model Accuracy')\n",
    "plt.ylabel('Acc')\n",
    "plt.xlabel('epoch')\n",
    "plt.legend(['train', 'val'], loc='upper left')\n",
    "plt.show()"
   ]
  },
  {
   "cell_type": "code",
   "execution_count": 64,
   "id": "aggregate-heather",
   "metadata": {},
   "outputs": [],
   "source": [
    "preds = []\n",
    "targets = []\n",
    "for texts, ys in valid_generator:\n",
    "    preds += model(texts.to(device)).squeeze().detach().to('cpu').numpy().tolist()\n",
    "    targets += ys.numpy().tolist()"
   ]
  },
  {
   "cell_type": "code",
   "execution_count": 65,
   "id": "shared-protection",
   "metadata": {},
   "outputs": [
    {
     "name": "stdout",
     "output_type": "stream",
     "text": [
      "              precision    recall  f1-score   support\n",
      "\n",
      "         0.0       0.98      0.96      0.97     61266\n",
      "         1.0       0.54      0.70      0.61      4041\n",
      "\n",
      "    accuracy                           0.94     65307\n",
      "   macro avg       0.76      0.83      0.79     65307\n",
      "weighted avg       0.95      0.94      0.95     65307\n",
      "\n"
     ]
    }
   ],
   "source": [
    "print(classification_report(targets, (np.array(preds) > 0.2).astype(int)))"
   ]
  },
  {
   "cell_type": "markdown",
   "id": "violent-arabic",
   "metadata": {},
   "source": [
    "## Конкатенируем эмбединги"
   ]
  },
  {
   "cell_type": "code",
   "execution_count": 66,
   "id": "german-helping",
   "metadata": {},
   "outputs": [],
   "source": [
    "class Clf_flatten(nn.Module):\n",
    "    \n",
    "    def __init__(self, vocab_size, embedding_dim, \n",
    "                 embeddings_ft, embeddings_w2v, output_dim):\n",
    "        \n",
    "        super().__init__()\n",
    "        self.flatten = nn.Flatten()          \n",
    "        self.ft_embedding = nn.Embedding(vocab_size, embedding_dim)\n",
    "        self.w2v_embedding = nn.Embedding(vocab_size, embedding_dim)\n",
    "\n",
    "        self.ft_embedding.from_pretrained(torch.tensor(embeddings_ft), freeze=True)\n",
    "        self.w2v_embedding.from_pretrained(torch.tensor(embeddings_w2v), freeze=True)\n",
    "\n",
    "        self.fc = nn.Linear(embedding_dim, output_dim)\n",
    "        self.act = nn.Sigmoid() \n",
    "        \n",
    "    def forward(self, text):\n",
    "        \n",
    "        embedded_ft = self.ft_embedding(text)   \n",
    "        embedded_ft = torch.mean(embedded_ft, dim=1)\n",
    "\n",
    "        embedded_w2v = self.w2v_embedding(text)   \n",
    "        embedded_w2v = torch.mean(embedded_w2v, dim=1)\n",
    "\n",
    "        hidden_ft = self.flatten(embedded_ft)\n",
    "        hidden_w2v = self.flatten(embedded_w2v)\n",
    "\n",
    "        embedded_mean = (hidden_w2v + hidden_ft) / 2\n",
    "        \n",
    "        dense_outputs = self.fc(embedded_mean)\n",
    "        outputs=self.act(dense_outputs)\n",
    "        \n",
    "        return outputs"
   ]
  },
  {
   "cell_type": "code",
   "execution_count": 67,
   "id": "choice-cambodia",
   "metadata": {},
   "outputs": [],
   "source": [
    "model = Clf_flatten(len(word2id), embedding_dim=50,\n",
    "            embeddings_ft=weights_ft, embeddings_w2v=weights_w2v, output_dim=1)\n",
    "\n",
    "optimizer = optim.Adam(model.parameters())\n",
    "criterion = nn.BCELoss() \n",
    "\n",
    "model = model.to(device)\n",
    "criterion = criterion.to(device)"
   ]
  },
  {
   "cell_type": "code",
   "execution_count": 69,
   "id": "hired-drove",
   "metadata": {},
   "outputs": [
    {
     "name": "stdout",
     "output_type": "stream",
     "text": [
      "epoch: 0\n",
      "Loss: 0.1544218701091376; Accuracy: 0.9448432807807807\n",
      "Loss: 0.14965158926063088; Accuracy: 0.9457541270635318\n",
      "Loss: 0.14647841545100726; Accuracy: 0.9463584215571857\n",
      "Loss: 0.14382568614151692; Accuracy: 0.9470287493748437\n",
      "epoch: 1\n",
      "Loss: 0.13076668386314963; Accuracy: 0.9512168418418419\n",
      "Loss: 0.129653538826512; Accuracy: 0.9512822817658829\n",
      "Loss: 0.12898182656172516; Accuracy: 0.9512063917139046\n",
      "Loss: 0.12837145152141016; Accuracy: 0.9513140003750937\n",
      "epoch: 2\n",
      "Loss: 0.12412415840499871; Accuracy: 0.9534260823323323\n",
      "Loss: 0.12365955816374057; Accuracy: 0.9531347705102551\n",
      "Loss: 0.12340982027399058; Accuracy: 0.952990840696899\n",
      "Loss: 0.12315389573961594; Accuracy: 0.9529902006751688\n",
      "epoch: 3\n",
      "Loss: 0.12086097853588271; Accuracy: 0.95459131006006\n",
      "Loss: 0.1206472135834273; Accuracy: 0.9541509035767884\n",
      "Loss: 0.12055071241217043; Accuracy: 0.9539664263087696\n",
      "Loss: 0.12039786903269144; Accuracy: 0.9539240278819705\n",
      "epoch: 4\n",
      "Loss: 0.1189750757541981; Accuracy: 0.9552482169669669\n",
      "Loss: 0.11888725079853216; Accuracy: 0.954805527763882\n",
      "Loss: 0.11886223885080106; Accuracy: 0.9545499541513838\n",
      "Loss: 0.11873532446191203; Accuracy: 0.9545306248437109\n",
      "CPU times: user 4min 23s, sys: 894 ms, total: 4min 24s\n",
      "Wall time: 4min 23s\n"
     ]
    }
   ],
   "source": [
    "%%time\n",
    "accs = []\n",
    "accs_eval = []\n",
    "for i in range(5):\n",
    "    print('epoch:', i)\n",
    "    accs.append(train(model, training_generator, optimizer, criterion))\n",
    "    accs_eval.append(evaluate(model, valid_generator, criterion))"
   ]
  },
  {
   "cell_type": "code",
   "execution_count": 70,
   "id": "integrated-policy",
   "metadata": {},
   "outputs": [
    {
     "data": {
      "image/png": "[encoded data removed]",
      "text/plain": [
       "<Figure size 432x288 with 1 Axes>"
      ]
     },
     "metadata": {
      "needs_background": "light"
     },
     "output_type": "display_data"
    }
   ],
   "source": [
    "plt.plot(np.sqrt(accs))\n",
    "plt.plot(np.sqrt(accs_eval))\n",
    "plt.title('model Accuracy')\n",
    "plt.ylabel('Acc')\n",
    "plt.xlabel('epoch')\n",
    "plt.legend(['train', 'val'], loc='upper left')\n",
    "plt.show()"
   ]
  },
  {
   "cell_type": "code",
   "execution_count": 71,
   "id": "phantom-genius",
   "metadata": {},
   "outputs": [],
   "source": [
    "preds = []\n",
    "targets = []\n",
    "for texts, ys in valid_generator:\n",
    "    preds += model(texts.to(device)).squeeze().detach().to('cpu').numpy().tolist()\n",
    "    targets += ys.numpy().tolist()"
   ]
  },
  {
   "cell_type": "code",
   "execution_count": 72,
   "id": "fitted-magic",
   "metadata": {},
   "outputs": [
    {
     "name": "stdout",
     "output_type": "stream",
     "text": [
      "              precision    recall  f1-score   support\n",
      "\n",
      "         0.0       0.97      0.98      0.97     61266\n",
      "         1.0       0.61      0.60      0.61      4041\n",
      "\n",
      "    accuracy                           0.95     65307\n",
      "   macro avg       0.79      0.79      0.79     65307\n",
      "weighted avg       0.95      0.95      0.95     65307\n",
      "\n"
     ]
    }
   ],
   "source": [
    "print(classification_report(targets, (np.array(preds) > 0.3).astype(int)))"
   ]
  },
  {
   "cell_type": "markdown",
   "id": "searching-referral",
   "metadata": {},
   "source": [
    "### Выводы:"
   ]
  },
  {
   "cell_type": "markdown",
   "id": "statistical-payroll",
   "metadata": {},
   "source": [
    "В целом, стало лучше! Заметнее это при усреднении эмбедингов"
   ]
  }
 ],
 "metadata": {
  "kernelspec": {
   "display_name": "python3.8",
   "language": "python",
   "name": "python3.8"
  },
  "language_info": {
   "codemirror_mode": {
    "name": "ipython",
    "version": 3
   },
   "file_extension": ".py",
   "mimetype": "text/x-python",
   "name": "python",
   "nbconvert_exporter": "python",
   "pygments_lexer": "ipython3",
   "version": "3.8.8"
  }
 },
 "nbformat": 4,
 "nbformat_minor": 5
}
