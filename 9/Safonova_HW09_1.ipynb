{
 "cells": [
  {
   "cell_type": "markdown",
   "id": "imposed-vertical",
   "metadata": {},
   "source": [
    "# HW09. Именованные сущности"
   ]
  },
  {
   "cell_type": "markdown",
   "id": "recent-bundle",
   "metadata": {},
   "source": [
    "## 1. Напишем правила на yargy, которые будут извлекать названия и характеристики автомобилей"
   ]
  },
  {
   "cell_type": "code",
   "execution_count": 1,
   "id": "studied-segment",
   "metadata": {},
   "outputs": [],
   "source": [
    "from yargy import Parser, rule, or_, and_\n",
    "from yargy.predicates import in_, in_caseless\n",
    "from yargy.tokenizer import MorphTokenizer\n",
    "from yargy.pipelines import morph_pipeline, caseless_pipeline\n",
    "from yargy.interpretation import fact\n",
    "from IPython.display import display\n",
    "from yargy.predicates import gram, is_capitalized, dictionary\n",
    "from yargy.predicates import caseless, normalized, dictionary\n",
    "from yargy.predicates import gte, lte\n",
    "from razdel import sentenize\n",
    "import pandas as pd"
   ]
  },
  {
   "cell_type": "code",
   "execution_count": 2,
   "id": "excessive-cyprus",
   "metadata": {},
   "outputs": [],
   "source": [
    "with open ('avito_cars.txt', 'r') as f: texts = f.read()"
   ]
  },
  {
   "cell_type": "code",
   "execution_count": 35,
   "id": "statutory-chair",
   "metadata": {},
   "outputs": [
    {
     "data": {
      "text/plain": [
       "' диски менялись. Все документы из Автосервиса по ТО в наличии.Состояние салона отличное .Есть не большие потертости на кузове.Двигатель в идеальном состоянии .Масло менял каждые 8000-9000 тыс.км.Менялось масло в АККМ следующая замена только через тыс. 40000.\\nв хорошем состоянии , документы все , номера в подарок....\\nПродаю Срочно!!! Все вопросы при осмотре. Торг\\nВ отличном состоянии. Установлен Вебасто, фаркоп.\\nПродам хороший автомобиль в отличном состоянии. Я второй собственник отвечу на любые вопросы, автомобиль готов на все проверки за вас счёт. Максимальная комплектация, дополнительно установлен Фаркоп, ксенон в противотуманный фары, тонирование, сигнализация с автозапуском и турботаймером, Вебасто и многое другое. Все Техническое обслуживание у официального дилера митсубисши, отметки в сервисной книжке имеются! Автомобиль на новой зимней резине Nokian Hakkapeliitta 5, не вредному покупателю отдам с автомобилем комплект летних шин так же в отличном состоянии.\\nОтличный рабочий автомобиль, технически все исправно, КПП 5, имеется неограниченная страховка, имеются повреждения переднего крыла и водительской двери, не критично можно ездить и так. Возможен торг.\\nЛексус RX300 2000г АКПП 4х4 дв 3.0л технически в отличном состоянии на запчасти целиком, утилизирован\\nКузов, коробка, двс, ходовка в хорошем состоянии также рассмотрю обмен не ограниченая страховка еще 9 месяцев\\nпродам машину или обменяю на рено\\nНе прокуренный салон. Не участвовала в ДТП. Своевременное обслуживание. Пройдены все ТО. Заменены все расходники (новый акб, цепь, свечи иридиевые). Автозапуск. Торг реальному покупателю при осмотре. Комплект зимних шин в подарок. Обмен не интересует!\\nАвтомобиль Вы можете приобрести как за наличный расчет так и в кредит. Так же действует услуга TRADE-IN (обмен Вашего старого автомобиля на новый),\\xa0/ / Приобретая автомобиль у нас Вы можете быть уверены, что:\\xa0/ / - Автомобиль прошел комплексную техническую диагностику ходовой части и двигателя;\\xa0/ / - Проверен нашими экспер'"
      ]
     },
     "execution_count": 35,
     "metadata": {},
     "output_type": "execute_result"
    }
   ],
   "source": [
    "texts[25000:27000]"
   ]
  },
  {
   "cell_type": "code",
   "execution_count": 4,
   "id": "legal-poison",
   "metadata": {},
   "outputs": [],
   "source": [
    "Car = fact(\n",
    "    'Car',\n",
    "    ['brand', 'model', 'year', 'mileage', 'price']\n",
    ")"
   ]
  },
  {
   "cell_type": "code",
   "execution_count": 5,
   "id": "editorial-article",
   "metadata": {},
   "outputs": [],
   "source": [
    "YEAR = and_(gte(1980), lte(2021))\n",
    "\n",
    "YEAR_KEY = or_(\n",
    "    rule('г', '.'),\n",
    "    rule(normalized('год')),\n",
    "    rule('г', '.', 'в', '.'),\n",
    "    rule('г', '.', 'выпуска'),\n",
    "    rule(normalized('год'), normalized('выпуск')),\n",
    "    rule(normalized('год'), normalized('выпуск'), '–'),\n",
    "    rule(normalized('год'), normalized('выпуск'), '-'),\n",
    "    rule('г', '.', normalized('выпуск'), '-'),\n",
    "    rule('г', '.', normalized('выпуск'), '–')\n",
    ").named('KEY')\n",
    "year = or_(\n",
    "    rule\n",
    "    (\n",
    "    YEAR,\n",
    "    YEAR_KEY.optional()\n",
    "    ),\n",
    "    rule\n",
    "    (\n",
    "    YEAR_KEY,\n",
    "    YEAR\n",
    "    )\n",
    ").named('year')"
   ]
  },
  {
   "cell_type": "code",
   "execution_count": 6,
   "id": "perfect-nerve",
   "metadata": {},
   "outputs": [],
   "source": [
    "MILEAGE = rule(and_(gte(10), lte(1000000)))\n",
    "\n",
    "MILEAGE_KEY = or_(\n",
    "    rule(normalized('Пробег')),\n",
    "    rule(normalized('пробег')),\n",
    "    rule(normalized('Пробег'), '-'),\n",
    "    rule(normalized('Пробег'), '—'),\n",
    "    rule(normalized('пробег'), '-'),\n",
    "    rule(normalized('пробег'), '—'),\n",
    "    rule(normalized('ПРОБЕГ'), '—'),\n",
    "    rule(normalized('ПРОБЕГ'), '—'),\n",
    "    rule('км', '.'),\n",
    "    rule('км')\n",
    ").named('KEY')\n",
    "mileage = or_(\n",
    "    rule\n",
    "    (\n",
    "    MILEAGE_KEY,\n",
    "    MILEAGE\n",
    "    ),\n",
    "    rule\n",
    "    (\n",
    "    MILEAGE,\n",
    "    MILEAGE_KEY\n",
    "    )\n",
    ").named('mileage')"
   ]
  },
  {
   "cell_type": "code",
   "execution_count": 7,
   "id": "dietary-champagne",
   "metadata": {},
   "outputs": [],
   "source": [
    "PRICE = rule(and_(gte(10), lte(1000000)))\n",
    "\n",
    "PRICE_KEY = or_(\n",
    "    rule(normalized('Цена')),\n",
    "    rule(normalized('цена')),\n",
    "    rule(normalized('ЦЕНА')),\n",
    "    rule(normalized('Цена'), '-'),\n",
    "    rule(normalized('цена'), '-'),\n",
    "    rule(normalized('ЦЕНА'), '-'),\n",
    "    rule(normalized('Стоимость')),\n",
    "    rule(normalized('стоимость')),\n",
    "    rule(normalized('СТОИМОСТЬ')),\n",
    "    rule(normalized('Стоимость'), '-'),\n",
    "    rule(normalized('стоимость'), '-'),\n",
    "    rule(normalized('СТОИМОСТЬ'), '-'),\n",
    "    rule(normalized('рубли')),\n",
    "    rule(normalized('Рубли')),\n",
    "    rule(normalized('РУБЛИ')),\n",
    "    rule('Рубл'),\n",
    "    rule('рубл'),\n",
    "    rule('РУБЛ'),\n",
    "    rule('Руб'),\n",
    "    rule('руб'),\n",
    "    rule('РУБ'),\n",
    "    rule('р', '.'),\n",
    "    rule('Рубл', '.'),\n",
    "    rule('рубл', '.'),\n",
    "    rule('РУБЛ', '.'),\n",
    "    rule('Руб', '.'),\n",
    "    rule('руб', '.'),\n",
    "    rule('РУБ', '.'),\n",
    "    rule('тыс', '.'),\n",
    "    rule('тыс'),\n",
    "    rule('к', '.'),\n",
    "    rule('тыщ', '.'),\n",
    "    rule('тыщ'),\n",
    "    rule('000')\n",
    ").named('KEY')\n",
    "price = or_(\n",
    "    rule\n",
    "    (\n",
    "    PRICE_KEY,\n",
    "    PRICE\n",
    "    ),\n",
    "    rule\n",
    "    (\n",
    "    PRICE,\n",
    "    PRICE_KEY\n",
    "    )\n",
    ").named('price')"
   ]
  },
  {
   "cell_type": "code",
   "execution_count": 8,
   "id": "veterinary-metabolism",
   "metadata": {},
   "outputs": [],
   "source": [
    "vaz = rule(\n",
    "    morph_pipeline(['УАЗ', 'Уаз', 'уаз', 'Ваз', 'ВАЗ', 'ваз', 'vas', 'vaz', 'VAS', 'VAZ', 'vaz', 'Vaz']).interpretation(Car.brand),\n",
    "    morph_pipeline(['21074', '2121', '2131', '2101', '2103', '2106', '21099', '1111']).interpretation(Car.model.normalized()),\n",
    "    year.interpretation(Car.year.normalized()).optional(),\n",
    "    mileage.interpretation(Car.mileage.normalized()).optional(),\n",
    "    price.interpretation(Car.price.normalized()).optional()\n",
    "    )\n",
    "\n",
    "volvo = rule(\n",
    "    morph_pipeline(['Вольво', 'ВОЛЬВО', 'вольво', 'VOLVO', 'volvo', 'Volvo']).interpretation(Car.brand),\n",
    "    morph_pipeline(['ХС 70', 'XC70', 'xc70', 'xc 70', 'S40', 's40', 'S 40', 's 40', 'хс 90', 'XC90', 'XC 90', 'xc90', 'с60', 'C60', 'c 60', 'C 60', '850', 'S80', 'S 80', 's 80', 's80', '740', '760', '850', 'V90', 'V 90', 'v90', 'v 90', 'xc40', 'XC40', 'xc 40', 'XC 40', 'xc60', 'XC60', 'xc 60', 'XC 60']).interpretation(Car.model.normalized()),\n",
    "    year.interpretation(Car.year.normalized()).optional(),\n",
    "    mileage.interpretation(Car.mileage.normalized()).optional(),\n",
    "    price.interpretation(Car.price.normalized()).optional()\n",
    "    )"
   ]
  },
  {
   "cell_type": "code",
   "execution_count": 9,
   "id": "demanding-account",
   "metadata": {},
   "outputs": [],
   "source": [
    "Car = or_(vaz, volvo).interpretation(Car)\n",
    "\n",
    "parser = Parser(Car)"
   ]
  },
  {
   "cell_type": "code",
   "execution_count": 10,
   "id": "ranging-gamma",
   "metadata": {},
   "outputs": [
    {
     "name": "stdout",
     "output_type": "stream",
     "text": [
      "CPU times: user 1min 54s, sys: 1.7 s, total: 1min 56s\n",
      "Wall time: 1min 56s\n"
     ]
    }
   ],
   "source": [
    "%%time\n",
    "matches = list(parser.findall(texts))"
   ]
  },
  {
   "cell_type": "code",
   "execution_count": 11,
   "id": "partial-snake",
   "metadata": {},
   "outputs": [],
   "source": [
    "all_cars = []\n",
    "for m in matches:\n",
    "    all_cars.append(m.fact)"
   ]
  },
  {
   "cell_type": "code",
   "execution_count": 12,
   "id": "wound-uruguay",
   "metadata": {},
   "outputs": [
    {
     "name": "stdout",
     "output_type": "stream",
     "text": [
      "535\n"
     ]
    }
   ],
   "source": [
    "print(len(all_cars))"
   ]
  },
  {
   "cell_type": "code",
   "execution_count": 13,
   "id": "burning-morocco",
   "metadata": {},
   "outputs": [],
   "source": [
    "all_cars = set(all_cars)"
   ]
  },
  {
   "cell_type": "code",
   "execution_count": 14,
   "id": "discrete-samoa",
   "metadata": {},
   "outputs": [
    {
     "name": "stdout",
     "output_type": "stream",
     "text": [
      "107\n"
     ]
    }
   ],
   "source": [
    "print(len(all_cars))"
   ]
  },
  {
   "cell_type": "code",
   "execution_count": 15,
   "id": "extraordinary-parallel",
   "metadata": {},
   "outputs": [
    {
     "name": "stdout",
     "output_type": "stream",
     "text": [
      "ВАЗ 1111 None None None\n",
      "Ваз 2106 None None None\n",
      "Ваз 2106 1990г. None None\n",
      "ВАЗ 2101 None None None\n",
      "Volvo XC90 2008г. None None\n",
      "Вольво 850 None None None\n",
      "Volvo S80 None None None\n",
      "ваз 21099 год выпуск 1997 None None\n",
      "ВАЗ 2106 None None цена 40000\n",
      "Ваз 21074 2007 г.в. None None\n",
      "ВАЗ 21074 2007 None None\n",
      "VOLVO XC90 2004г. 141500 км None\n",
      "ВАЗ 2131 2013 None None\n",
      "ВАЗ 21099 2000 г.в. None None\n",
      "ВАЗ 21099 1996 г.в. None None\n",
      "Вольво S40 None None None\n",
      "ВАЗ 21099 1999 год None None\n",
      "ВАЗ 21099 None None None\n",
      "ВАЗ 21074 2005 None None\n",
      "Ваз 2121 None None None\n",
      "ваз 21074 год выпуск 2011 None None\n",
      "ВАЗ 21074 2005 год выпуск None None\n",
      "ваз 2106 1994 год выпуск None None\n",
      "ваз 21074 2007 год None None\n",
      "ваз 21074 2008г. None None\n",
      "Ваз 21074 2008 г. None None\n",
      "Вольво S80 None None None\n",
      "ваз 2106 1997 None None\n",
      "VOLVO ХС 70 None None None\n",
      "ВАЗ 2121 None None None\n",
      "ВАЗ 2106 2001г.в. None None\n",
      "ваз 2106 None None None\n",
      "ваз 2106 1994г.в. None None\n",
      "ВАЗ 21099 2002 г.в. None None\n",
      "ВАЗ 21099 2001 год выпуск None None\n",
      "ваз 21099 None None None\n",
      "Вольво с60 None None None\n",
      "ваз 2131 None None None\n",
      "вольво S80 None None None\n",
      "ваз 21099 1997 None None\n",
      "ваз 2106 2002 год выпуск None None\n",
      "ваз 2121 None None None\n",
      "volvo 740 1991г. None None\n",
      "VOLVO S40 None None None\n",
      "Вольво XC70 None None None\n",
      "ваз 21099 2002год выпуск None None\n",
      "ВАЗ 2121 1991 год None None\n",
      "Volvo S40 None None None\n",
      "ВАЗ 21074 2007 г. None None\n",
      "Вольво хс 90 None None None\n",
      "Ваз 21099 2002 год None None\n",
      "ВАЗ 21074 2003 год выпуск None None\n",
      "Volvo xc60 None None None\n",
      "ВАЗ 2106 None None None\n",
      "Volvo S40 2007год None None\n",
      "ваз 21099 1993 год None None\n",
      "ВАЗ 2131 None None None\n",
      "ВАЗ 21074 2010 г. None None\n",
      "ВАЗ 21099 2004 г.в. None None\n",
      "Ваз 2101 None None None\n",
      "ваз 1111 None None None\n",
      "ВАЗ 2106 1996 год None None\n",
      "Ваз 2121 1994 None None\n",
      "ВАЗ 21074 2001 None None\n",
      "Ваз 21074 2007 год выпуск None None\n",
      "ваз 21099 2000год None None\n",
      "ВАЗ 21074 None None None\n",
      "ВОЛЬВО хс 90 None None None\n",
      "Вольво ХС 70 None None None\n",
      "ВАЗ 2131 2016г. None None\n",
      "Ваз 2106 1994г.в. None None\n",
      "ВАЗ 21074 2007 год выпуск None None\n",
      "ваз 21099 2003 год None None\n",
      "ВАЗ 21099 1999 г.в. None None\n",
      "Ваз 21099 None None None\n",
      "ВАЗ 21099 2000 None None\n",
      "Ваз 2131 None None None\n",
      "ВАЗ 2121 1990 г. выпуск None None\n",
      "ваз 21074 None None None\n",
      "Ваз 21074 2011 год выпуск None None\n",
      "Ваз 21099 2000г. None None\n",
      "Volvo 740 None None None\n",
      "ваз 2121 1994 None None\n",
      "ваз 21099 2000г. None None\n",
      "ВАЗ 21074 2003г. None None\n",
      "ваз 2106 1991 год None None\n",
      "ваз 21099 2000год выпуск None None\n",
      "ВАЗ 2103 None None None\n",
      "ВАЗ 21074 2008 год None None\n",
      "ВАЗ 2106 1995 г. None None\n",
      "ВАЗ 21099 2002 год None None\n",
      "ваз 2106 1995год None None\n",
      "ВАЗ 2106 1995 None None\n",
      "ваз 2103 None None None\n",
      "ваз 2106 1996 год None None\n",
      "Ваз 1111 None None None\n",
      "ВАЗ 21099 1997г.в. None None\n",
      "Ваз 21074 None None None\n",
      "ваз 2101 None None None\n",
      "Volvo XC90 None None None\n",
      "Ваз 2103 None None None\n",
      "Ваз 21099 год 1994 None None\n",
      "ваз 21099 2001 год None None\n",
      "ваз 21099 1995 None None\n",
      "ВАЗ 21074 1999г.в. None None\n",
      "Ваз 21099 1996 год выпуск None None\n",
      "Volvo XC70 None None None\n"
     ]
    }
   ],
   "source": [
    "for car in all_cars:\n",
    "    print(car.brand, car.model, car.year, car.mileage, car.price)"
   ]
  },
  {
   "cell_type": "markdown",
   "id": "hawaiian-commerce",
   "metadata": {},
   "source": [
    "Бренд и модель парсит хорошо, а вот всё остальное -- не очень"
   ]
  },
  {
   "cell_type": "code",
   "execution_count": null,
   "id": "physical-russia",
   "metadata": {},
   "outputs": [],
   "source": []
  },
  {
   "cell_type": "code",
   "execution_count": null,
   "id": "nervous-aquatic",
   "metadata": {},
   "outputs": [],
   "source": []
  }
 ],
 "metadata": {
  "kernelspec": {
   "display_name": "python3.8",
   "language": "python",
   "name": "python3.8"
  },
  "language_info": {
   "codemirror_mode": {
    "name": "ipython",
    "version": 3
   },
   "file_extension": ".py",
   "mimetype": "text/x-python",
   "name": "python",
   "nbconvert_exporter": "python",
   "pygments_lexer": "ipython3",
   "version": "3.8.8"
  }
 },
 "nbformat": 4,
 "nbformat_minor": 5
}
